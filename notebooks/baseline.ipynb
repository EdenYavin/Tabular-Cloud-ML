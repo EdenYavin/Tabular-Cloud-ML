{
 "cells": [
  {
   "cell_type": "code",
   "id": "initial_id",
   "metadata": {
    "collapsed": true,
    "ExecuteTime": {
     "end_time": "2025-05-13T05:29:18.284377Z",
     "start_time": "2025-05-13T05:28:56.464593Z"
    }
   },
   "source": [
    "import pickle\n",
    "from keras.src.metrics import F1Score\n",
    "from keras.src.callbacks import LearningRateScheduler\n",
    "from sklearn.base import BaseEstimator, ClassifierMixin\n",
    "from sklearn.metrics import accuracy_score, f1_score\n",
    "from keras.src.models import Model\n",
    "from keras.src.callbacks import EarlyStopping\n",
    "from keras.src.layers import Dropout, Dense, BatchNormalization, Input, Flatten"
   ],
   "outputs": [],
   "execution_count": 1
  },
  {
   "metadata": {
    "ExecuteTime": {
     "end_time": "2025-05-13T05:29:18.301535Z",
     "start_time": "2025-05-13T05:29:18.297769Z"
    }
   },
   "cell_type": "code",
   "source": [
    "from sklearn.metrics import accuracy_score, f1_score\n",
    "import numpy as np\n",
    "def evaluate(model, X, y):\n",
    "    if len(y.shape) == 2:\n",
    "        y = np.argmax(y, axis=1)\n",
    "\n",
    "    pred = model.predict(X)\n",
    "    pred = np.argmax(pred, axis=1)\n",
    "    acc, f1 = accuracy_score(y, pred), f1_score(y, pred, average='weighted')\n",
    "    print(f\"## Accuracy: {acc}\\n\\n## F1 Score: {f1}\\n\\n\")\n"
   ],
   "id": "1031770cdd2b36dd",
   "outputs": [],
   "execution_count": 2
  },
  {
   "metadata": {},
   "cell_type": "markdown",
   "source": "# Baseline",
   "id": "c5bf525edd74e067"
  },
  {
   "metadata": {
    "ExecuteTime": {
     "end_time": "2025-05-11T16:54:30.896633Z",
     "start_time": "2025-05-11T16:54:30.885999Z"
    }
   },
   "cell_type": "code",
   "source": [
    "with open(\"/Users/eden.yavin/Projects/Tabular-Cloud-ML/store/emb_dataset_w_cl_wo_em.pkl\", \"rb\") as f:\n",
    "    emb_dataset = pickle.load(f)\n",
    "\n",
    "emb_dataset.train"
   ],
   "id": "1cbe3d41bafd97d2",
   "outputs": [
    {
     "data": {
      "text/plain": [
       "EmbeddingBaselineFeatures(embeddings=array([[0.        , 0.04318882, 0.09121387, ..., 0.11157572, 0.06733229,\n",
       "        0.        ],\n",
       "       [0.        , 0.        , 0.06966318, ..., 0.04338145, 0.15025526,\n",
       "        0.        ],\n",
       "       [0.        , 0.06783015, 0.22331883, ..., 0.05096863, 0.        ,\n",
       "        0.        ],\n",
       "       ...,\n",
       "       [0.        , 0.06515576, 0.        , ..., 0.        , 0.08230814,\n",
       "        0.        ],\n",
       "       [0.        , 0.17265853, 0.08966093, ..., 0.00556558, 0.        ,\n",
       "        0.        ],\n",
       "       [0.        , 0.04383548, 0.12643135, ..., 0.07490431, 0.        ,\n",
       "        0.        ]], dtype=float32), labels=array([[1., 0.],\n",
       "       [1., 0.],\n",
       "       [0., 1.],\n",
       "       ...,\n",
       "       [0., 1.],\n",
       "       [1., 0.],\n",
       "       [0., 1.]]))"
      ]
     },
     "execution_count": 26,
     "metadata": {},
     "output_type": "execute_result"
    }
   ],
   "execution_count": 26
  },
  {
   "metadata": {
    "ExecuteTime": {
     "end_time": "2025-05-11T16:54:36.245611Z",
     "start_time": "2025-05-11T16:54:36.178729Z"
    }
   },
   "cell_type": "code",
   "source": [
    "\n",
    "\n",
    "inputs = Input(shape=(emb_dataset.train.embeddings.shape[1],))  # Dynamic input shape\n",
    "\n",
    "# Define the hidden layers\n",
    "x = BatchNormalization()(inputs)\n",
    "x = Dense(units=1024, activation='leaky_relu')(x)\n",
    "x = Dropout(0.3)(x)\n",
    "\n",
    "x = BatchNormalization()(x)\n",
    "x = Dense(units=512, activation='leaky_relu')(x)\n",
    "x = Dropout(0.3)(x)\n",
    "\n",
    "x = BatchNormalization()(x)\n",
    "x = Dense(units=256, activation='leaky_relu')(x)\n",
    "x = Dropout(0.3)(x)\n",
    "\n",
    "x = BatchNormalization()(x)\n",
    "x = Dense(units=128, activation='leaky_relu')(x)\n",
    "x = Dropout(0.3)(x)\n",
    "\n",
    "# Define the output layer\n",
    "outputs = Dense(units=2, activation='softmax')(x)\n",
    "\n",
    "# Create the model\n",
    "model = Model(inputs=inputs, outputs=outputs)\n",
    "\n",
    "# Compile the model with F1 Score\n",
    "model.compile(optimizer='adam',\n",
    "              loss='categorical_crossentropy',\n",
    "              metrics=['accuracy', F1Score()]\n",
    "              )\n",
    "model.summary()"
   ],
   "id": "f57d2d8cbb47ebd7",
   "outputs": [
    {
     "data": {
      "text/plain": [
       "\u001B[1mModel: \"functional_3\"\u001B[0m\n"
      ],
      "text/html": [
       "<pre style=\"white-space:pre;overflow-x:auto;line-height:normal;font-family:Menlo,'DejaVu Sans Mono',consolas,'Courier New',monospace\"><span style=\"font-weight: bold\">Model: \"functional_3\"</span>\n",
       "</pre>\n"
      ]
     },
     "metadata": {},
     "output_type": "display_data"
    },
    {
     "data": {
      "text/plain": [
       "┏━━━━━━━━━━━━━━━━━━━━━━━━━━━━━━━━━┳━━━━━━━━━━━━━━━━━━━━━━━━┳━━━━━━━━━━━━━━━┓\n",
       "┃\u001B[1m \u001B[0m\u001B[1mLayer (type)                   \u001B[0m\u001B[1m \u001B[0m┃\u001B[1m \u001B[0m\u001B[1mOutput Shape          \u001B[0m\u001B[1m \u001B[0m┃\u001B[1m \u001B[0m\u001B[1m      Param #\u001B[0m\u001B[1m \u001B[0m┃\n",
       "┡━━━━━━━━━━━━━━━━━━━━━━━━━━━━━━━━━╇━━━━━━━━━━━━━━━━━━━━━━━━╇━━━━━━━━━━━━━━━┩\n",
       "│ input_layer_3 (\u001B[38;5;33mInputLayer\u001B[0m)      │ (\u001B[38;5;45mNone\u001B[0m, \u001B[38;5;34m64\u001B[0m)             │             \u001B[38;5;34m0\u001B[0m │\n",
       "├─────────────────────────────────┼────────────────────────┼───────────────┤\n",
       "│ batch_normalization_12          │ (\u001B[38;5;45mNone\u001B[0m, \u001B[38;5;34m64\u001B[0m)             │           \u001B[38;5;34m256\u001B[0m │\n",
       "│ (\u001B[38;5;33mBatchNormalization\u001B[0m)            │                        │               │\n",
       "├─────────────────────────────────┼────────────────────────┼───────────────┤\n",
       "│ dense_15 (\u001B[38;5;33mDense\u001B[0m)                │ (\u001B[38;5;45mNone\u001B[0m, \u001B[38;5;34m1024\u001B[0m)           │        \u001B[38;5;34m66,560\u001B[0m │\n",
       "├─────────────────────────────────┼────────────────────────┼───────────────┤\n",
       "│ dropout_12 (\u001B[38;5;33mDropout\u001B[0m)            │ (\u001B[38;5;45mNone\u001B[0m, \u001B[38;5;34m1024\u001B[0m)           │             \u001B[38;5;34m0\u001B[0m │\n",
       "├─────────────────────────────────┼────────────────────────┼───────────────┤\n",
       "│ batch_normalization_13          │ (\u001B[38;5;45mNone\u001B[0m, \u001B[38;5;34m1024\u001B[0m)           │         \u001B[38;5;34m4,096\u001B[0m │\n",
       "│ (\u001B[38;5;33mBatchNormalization\u001B[0m)            │                        │               │\n",
       "├─────────────────────────────────┼────────────────────────┼───────────────┤\n",
       "│ dense_16 (\u001B[38;5;33mDense\u001B[0m)                │ (\u001B[38;5;45mNone\u001B[0m, \u001B[38;5;34m512\u001B[0m)            │       \u001B[38;5;34m524,800\u001B[0m │\n",
       "├─────────────────────────────────┼────────────────────────┼───────────────┤\n",
       "│ dropout_13 (\u001B[38;5;33mDropout\u001B[0m)            │ (\u001B[38;5;45mNone\u001B[0m, \u001B[38;5;34m512\u001B[0m)            │             \u001B[38;5;34m0\u001B[0m │\n",
       "├─────────────────────────────────┼────────────────────────┼───────────────┤\n",
       "│ batch_normalization_14          │ (\u001B[38;5;45mNone\u001B[0m, \u001B[38;5;34m512\u001B[0m)            │         \u001B[38;5;34m2,048\u001B[0m │\n",
       "│ (\u001B[38;5;33mBatchNormalization\u001B[0m)            │                        │               │\n",
       "├─────────────────────────────────┼────────────────────────┼───────────────┤\n",
       "│ dense_17 (\u001B[38;5;33mDense\u001B[0m)                │ (\u001B[38;5;45mNone\u001B[0m, \u001B[38;5;34m256\u001B[0m)            │       \u001B[38;5;34m131,328\u001B[0m │\n",
       "├─────────────────────────────────┼────────────────────────┼───────────────┤\n",
       "│ dropout_14 (\u001B[38;5;33mDropout\u001B[0m)            │ (\u001B[38;5;45mNone\u001B[0m, \u001B[38;5;34m256\u001B[0m)            │             \u001B[38;5;34m0\u001B[0m │\n",
       "├─────────────────────────────────┼────────────────────────┼───────────────┤\n",
       "│ batch_normalization_15          │ (\u001B[38;5;45mNone\u001B[0m, \u001B[38;5;34m256\u001B[0m)            │         \u001B[38;5;34m1,024\u001B[0m │\n",
       "│ (\u001B[38;5;33mBatchNormalization\u001B[0m)            │                        │               │\n",
       "├─────────────────────────────────┼────────────────────────┼───────────────┤\n",
       "│ dense_18 (\u001B[38;5;33mDense\u001B[0m)                │ (\u001B[38;5;45mNone\u001B[0m, \u001B[38;5;34m128\u001B[0m)            │        \u001B[38;5;34m32,896\u001B[0m │\n",
       "├─────────────────────────────────┼────────────────────────┼───────────────┤\n",
       "│ dropout_15 (\u001B[38;5;33mDropout\u001B[0m)            │ (\u001B[38;5;45mNone\u001B[0m, \u001B[38;5;34m128\u001B[0m)            │             \u001B[38;5;34m0\u001B[0m │\n",
       "├─────────────────────────────────┼────────────────────────┼───────────────┤\n",
       "│ dense_19 (\u001B[38;5;33mDense\u001B[0m)                │ (\u001B[38;5;45mNone\u001B[0m, \u001B[38;5;34m2\u001B[0m)              │           \u001B[38;5;34m258\u001B[0m │\n",
       "└─────────────────────────────────┴────────────────────────┴───────────────┘\n"
      ],
      "text/html": [
       "<pre style=\"white-space:pre;overflow-x:auto;line-height:normal;font-family:Menlo,'DejaVu Sans Mono',consolas,'Courier New',monospace\">┏━━━━━━━━━━━━━━━━━━━━━━━━━━━━━━━━━┳━━━━━━━━━━━━━━━━━━━━━━━━┳━━━━━━━━━━━━━━━┓\n",
       "┃<span style=\"font-weight: bold\"> Layer (type)                    </span>┃<span style=\"font-weight: bold\"> Output Shape           </span>┃<span style=\"font-weight: bold\">       Param # </span>┃\n",
       "┡━━━━━━━━━━━━━━━━━━━━━━━━━━━━━━━━━╇━━━━━━━━━━━━━━━━━━━━━━━━╇━━━━━━━━━━━━━━━┩\n",
       "│ input_layer_3 (<span style=\"color: #0087ff; text-decoration-color: #0087ff\">InputLayer</span>)      │ (<span style=\"color: #00d7ff; text-decoration-color: #00d7ff\">None</span>, <span style=\"color: #00af00; text-decoration-color: #00af00\">64</span>)             │             <span style=\"color: #00af00; text-decoration-color: #00af00\">0</span> │\n",
       "├─────────────────────────────────┼────────────────────────┼───────────────┤\n",
       "│ batch_normalization_12          │ (<span style=\"color: #00d7ff; text-decoration-color: #00d7ff\">None</span>, <span style=\"color: #00af00; text-decoration-color: #00af00\">64</span>)             │           <span style=\"color: #00af00; text-decoration-color: #00af00\">256</span> │\n",
       "│ (<span style=\"color: #0087ff; text-decoration-color: #0087ff\">BatchNormalization</span>)            │                        │               │\n",
       "├─────────────────────────────────┼────────────────────────┼───────────────┤\n",
       "│ dense_15 (<span style=\"color: #0087ff; text-decoration-color: #0087ff\">Dense</span>)                │ (<span style=\"color: #00d7ff; text-decoration-color: #00d7ff\">None</span>, <span style=\"color: #00af00; text-decoration-color: #00af00\">1024</span>)           │        <span style=\"color: #00af00; text-decoration-color: #00af00\">66,560</span> │\n",
       "├─────────────────────────────────┼────────────────────────┼───────────────┤\n",
       "│ dropout_12 (<span style=\"color: #0087ff; text-decoration-color: #0087ff\">Dropout</span>)            │ (<span style=\"color: #00d7ff; text-decoration-color: #00d7ff\">None</span>, <span style=\"color: #00af00; text-decoration-color: #00af00\">1024</span>)           │             <span style=\"color: #00af00; text-decoration-color: #00af00\">0</span> │\n",
       "├─────────────────────────────────┼────────────────────────┼───────────────┤\n",
       "│ batch_normalization_13          │ (<span style=\"color: #00d7ff; text-decoration-color: #00d7ff\">None</span>, <span style=\"color: #00af00; text-decoration-color: #00af00\">1024</span>)           │         <span style=\"color: #00af00; text-decoration-color: #00af00\">4,096</span> │\n",
       "│ (<span style=\"color: #0087ff; text-decoration-color: #0087ff\">BatchNormalization</span>)            │                        │               │\n",
       "├─────────────────────────────────┼────────────────────────┼───────────────┤\n",
       "│ dense_16 (<span style=\"color: #0087ff; text-decoration-color: #0087ff\">Dense</span>)                │ (<span style=\"color: #00d7ff; text-decoration-color: #00d7ff\">None</span>, <span style=\"color: #00af00; text-decoration-color: #00af00\">512</span>)            │       <span style=\"color: #00af00; text-decoration-color: #00af00\">524,800</span> │\n",
       "├─────────────────────────────────┼────────────────────────┼───────────────┤\n",
       "│ dropout_13 (<span style=\"color: #0087ff; text-decoration-color: #0087ff\">Dropout</span>)            │ (<span style=\"color: #00d7ff; text-decoration-color: #00d7ff\">None</span>, <span style=\"color: #00af00; text-decoration-color: #00af00\">512</span>)            │             <span style=\"color: #00af00; text-decoration-color: #00af00\">0</span> │\n",
       "├─────────────────────────────────┼────────────────────────┼───────────────┤\n",
       "│ batch_normalization_14          │ (<span style=\"color: #00d7ff; text-decoration-color: #00d7ff\">None</span>, <span style=\"color: #00af00; text-decoration-color: #00af00\">512</span>)            │         <span style=\"color: #00af00; text-decoration-color: #00af00\">2,048</span> │\n",
       "│ (<span style=\"color: #0087ff; text-decoration-color: #0087ff\">BatchNormalization</span>)            │                        │               │\n",
       "├─────────────────────────────────┼────────────────────────┼───────────────┤\n",
       "│ dense_17 (<span style=\"color: #0087ff; text-decoration-color: #0087ff\">Dense</span>)                │ (<span style=\"color: #00d7ff; text-decoration-color: #00d7ff\">None</span>, <span style=\"color: #00af00; text-decoration-color: #00af00\">256</span>)            │       <span style=\"color: #00af00; text-decoration-color: #00af00\">131,328</span> │\n",
       "├─────────────────────────────────┼────────────────────────┼───────────────┤\n",
       "│ dropout_14 (<span style=\"color: #0087ff; text-decoration-color: #0087ff\">Dropout</span>)            │ (<span style=\"color: #00d7ff; text-decoration-color: #00d7ff\">None</span>, <span style=\"color: #00af00; text-decoration-color: #00af00\">256</span>)            │             <span style=\"color: #00af00; text-decoration-color: #00af00\">0</span> │\n",
       "├─────────────────────────────────┼────────────────────────┼───────────────┤\n",
       "│ batch_normalization_15          │ (<span style=\"color: #00d7ff; text-decoration-color: #00d7ff\">None</span>, <span style=\"color: #00af00; text-decoration-color: #00af00\">256</span>)            │         <span style=\"color: #00af00; text-decoration-color: #00af00\">1,024</span> │\n",
       "│ (<span style=\"color: #0087ff; text-decoration-color: #0087ff\">BatchNormalization</span>)            │                        │               │\n",
       "├─────────────────────────────────┼────────────────────────┼───────────────┤\n",
       "│ dense_18 (<span style=\"color: #0087ff; text-decoration-color: #0087ff\">Dense</span>)                │ (<span style=\"color: #00d7ff; text-decoration-color: #00d7ff\">None</span>, <span style=\"color: #00af00; text-decoration-color: #00af00\">128</span>)            │        <span style=\"color: #00af00; text-decoration-color: #00af00\">32,896</span> │\n",
       "├─────────────────────────────────┼────────────────────────┼───────────────┤\n",
       "│ dropout_15 (<span style=\"color: #0087ff; text-decoration-color: #0087ff\">Dropout</span>)            │ (<span style=\"color: #00d7ff; text-decoration-color: #00d7ff\">None</span>, <span style=\"color: #00af00; text-decoration-color: #00af00\">128</span>)            │             <span style=\"color: #00af00; text-decoration-color: #00af00\">0</span> │\n",
       "├─────────────────────────────────┼────────────────────────┼───────────────┤\n",
       "│ dense_19 (<span style=\"color: #0087ff; text-decoration-color: #0087ff\">Dense</span>)                │ (<span style=\"color: #00d7ff; text-decoration-color: #00d7ff\">None</span>, <span style=\"color: #00af00; text-decoration-color: #00af00\">2</span>)              │           <span style=\"color: #00af00; text-decoration-color: #00af00\">258</span> │\n",
       "└─────────────────────────────────┴────────────────────────┴───────────────┘\n",
       "</pre>\n"
      ]
     },
     "metadata": {},
     "output_type": "display_data"
    },
    {
     "data": {
      "text/plain": [
       "\u001B[1m Total params: \u001B[0m\u001B[38;5;34m763,266\u001B[0m (2.91 MB)\n"
      ],
      "text/html": [
       "<pre style=\"white-space:pre;overflow-x:auto;line-height:normal;font-family:Menlo,'DejaVu Sans Mono',consolas,'Courier New',monospace\"><span style=\"font-weight: bold\"> Total params: </span><span style=\"color: #00af00; text-decoration-color: #00af00\">763,266</span> (2.91 MB)\n",
       "</pre>\n"
      ]
     },
     "metadata": {},
     "output_type": "display_data"
    },
    {
     "data": {
      "text/plain": [
       "\u001B[1m Trainable params: \u001B[0m\u001B[38;5;34m759,554\u001B[0m (2.90 MB)\n"
      ],
      "text/html": [
       "<pre style=\"white-space:pre;overflow-x:auto;line-height:normal;font-family:Menlo,'DejaVu Sans Mono',consolas,'Courier New',monospace\"><span style=\"font-weight: bold\"> Trainable params: </span><span style=\"color: #00af00; text-decoration-color: #00af00\">759,554</span> (2.90 MB)\n",
       "</pre>\n"
      ]
     },
     "metadata": {},
     "output_type": "display_data"
    },
    {
     "data": {
      "text/plain": [
       "\u001B[1m Non-trainable params: \u001B[0m\u001B[38;5;34m3,712\u001B[0m (14.50 KB)\n"
      ],
      "text/html": [
       "<pre style=\"white-space:pre;overflow-x:auto;line-height:normal;font-family:Menlo,'DejaVu Sans Mono',consolas,'Courier New',monospace\"><span style=\"font-weight: bold\"> Non-trainable params: </span><span style=\"color: #00af00; text-decoration-color: #00af00\">3,712</span> (14.50 KB)\n",
       "</pre>\n"
      ]
     },
     "metadata": {},
     "output_type": "display_data"
    }
   ],
   "execution_count": 27
  },
  {
   "metadata": {
    "ExecuteTime": {
     "end_time": "2025-05-11T16:55:09.342409Z",
     "start_time": "2025-05-11T16:54:39.704399Z"
    }
   },
   "cell_type": "code",
   "source": [
    "lr_scheduler = LearningRateScheduler(lambda epoch: 0.0001 * (0.9 ** epoch))\n",
    "early_stopping = EarlyStopping(patience=2, monitor='loss')\n",
    "model.fit(emb_dataset.train.embeddings, emb_dataset.train.labels, epochs=100, batch_size=64, callbacks=[lr_scheduler, early_stopping], verbose=2)"
   ],
   "id": "3d0a043c8ef256c5",
   "outputs": [
    {
     "name": "stdout",
     "output_type": "stream",
     "text": [
      "Epoch 1/100\n",
      "105/105 - 3s - 32ms/step - accuracy: 0.5914 - f1_score: 0.5914 - loss: 0.8003 - learning_rate: 1.0000e-04\n",
      "Epoch 2/100\n",
      "105/105 - 1s - 13ms/step - accuracy: 0.6399 - f1_score: 0.6399 - loss: 0.6939 - learning_rate: 9.0000e-05\n",
      "Epoch 3/100\n",
      "105/105 - 1s - 13ms/step - accuracy: 0.6781 - f1_score: 0.6781 - loss: 0.6425 - learning_rate: 8.1000e-05\n",
      "Epoch 4/100\n",
      "105/105 - 1s - 13ms/step - accuracy: 0.6836 - f1_score: 0.6836 - loss: 0.6331 - learning_rate: 7.2900e-05\n",
      "Epoch 5/100\n",
      "105/105 - 1s - 13ms/step - accuracy: 0.7105 - f1_score: 0.7105 - loss: 0.6070 - learning_rate: 6.5610e-05\n",
      "Epoch 6/100\n",
      "105/105 - 1s - 13ms/step - accuracy: 0.7116 - f1_score: 0.7116 - loss: 0.5909 - learning_rate: 5.9049e-05\n",
      "Epoch 7/100\n",
      "105/105 - 1s - 13ms/step - accuracy: 0.7141 - f1_score: 0.7141 - loss: 0.5802 - learning_rate: 5.3144e-05\n",
      "Epoch 8/100\n",
      "105/105 - 1s - 13ms/step - accuracy: 0.7210 - f1_score: 0.7210 - loss: 0.5658 - learning_rate: 4.7830e-05\n",
      "Epoch 9/100\n",
      "105/105 - 1s - 13ms/step - accuracy: 0.7254 - f1_score: 0.7254 - loss: 0.5595 - learning_rate: 4.3047e-05\n",
      "Epoch 10/100\n",
      "105/105 - 1s - 13ms/step - accuracy: 0.7287 - f1_score: 0.7287 - loss: 0.5547 - learning_rate: 3.8742e-05\n",
      "Epoch 11/100\n",
      "105/105 - 1s - 13ms/step - accuracy: 0.7372 - f1_score: 0.7372 - loss: 0.5397 - learning_rate: 3.4868e-05\n",
      "Epoch 12/100\n",
      "105/105 - 1s - 13ms/step - accuracy: 0.7374 - f1_score: 0.7374 - loss: 0.5426 - learning_rate: 3.1381e-05\n",
      "Epoch 13/100\n",
      "105/105 - 1s - 13ms/step - accuracy: 0.7470 - f1_score: 0.7470 - loss: 0.5318 - learning_rate: 2.8243e-05\n",
      "Epoch 14/100\n",
      "105/105 - 2s - 15ms/step - accuracy: 0.7393 - f1_score: 0.7393 - loss: 0.5409 - learning_rate: 2.5419e-05\n",
      "Epoch 15/100\n",
      "105/105 - 1s - 13ms/step - accuracy: 0.7494 - f1_score: 0.7494 - loss: 0.5299 - learning_rate: 2.2877e-05\n",
      "Epoch 16/100\n",
      "105/105 - 1s - 13ms/step - accuracy: 0.7477 - f1_score: 0.7477 - loss: 0.5291 - learning_rate: 2.0589e-05\n",
      "Epoch 17/100\n",
      "105/105 - 1s - 13ms/step - accuracy: 0.7399 - f1_score: 0.7399 - loss: 0.5336 - learning_rate: 1.8530e-05\n",
      "Epoch 18/100\n",
      "105/105 - 1s - 13ms/step - accuracy: 0.7568 - f1_score: 0.7567 - loss: 0.5201 - learning_rate: 1.6677e-05\n",
      "Epoch 19/100\n",
      "105/105 - 1s - 13ms/step - accuracy: 0.7429 - f1_score: 0.7429 - loss: 0.5235 - learning_rate: 1.5009e-05\n",
      "Epoch 20/100\n",
      "105/105 - 1s - 14ms/step - accuracy: 0.7521 - f1_score: 0.7521 - loss: 0.5285 - learning_rate: 1.3509e-05\n"
     ]
    },
    {
     "data": {
      "text/plain": [
       "<keras.src.callbacks.history.History at 0x41ef750f0>"
      ]
     },
     "execution_count": 28,
     "metadata": {},
     "output_type": "execute_result"
    }
   ],
   "execution_count": 28
  },
  {
   "metadata": {
    "ExecuteTime": {
     "end_time": "2025-05-11T16:55:33.474470Z",
     "start_time": "2025-05-11T16:55:33.187587Z"
    }
   },
   "cell_type": "code",
   "source": "evaluate(model, emb_dataset.test.embeddings, emb_dataset.test.labels)",
   "id": "31e15f7b74e88862",
   "outputs": [
    {
     "name": "stdout",
     "output_type": "stream",
     "text": [
      "\u001B[1m24/24\u001B[0m \u001B[32m━━━━━━━━━━━━━━━━━━━━\u001B[0m\u001B[37m\u001B[0m \u001B[1m0s\u001B[0m 6ms/step\n"
     ]
    },
    {
     "data": {
      "text/plain": [
       "(0.7635135135135135, 0.760351607679852)"
      ]
     },
     "execution_count": 29,
     "metadata": {},
     "output_type": "execute_result"
    }
   ],
   "execution_count": 29
  },
  {
   "metadata": {
    "ExecuteTime": {
     "end_time": "2025-05-11T16:34:09.804200Z",
     "start_time": "2025-05-11T16:34:09.802018Z"
    }
   },
   "cell_type": "code",
   "source": "del emb_dataset, model",
   "id": "479a134317c62493",
   "outputs": [],
   "execution_count": 4
  },
  {
   "metadata": {},
   "cell_type": "markdown",
   "source": "# No Embedding | With Cloud | With Triangulation Dataset",
   "id": "e0841cbe13157ec1"
  },
  {
   "metadata": {
    "ExecuteTime": {
     "end_time": "2025-05-13T05:32:47.735718Z",
     "start_time": "2025-05-13T05:32:47.147589Z"
    }
   },
   "cell_type": "code",
   "source": [
    "with open(\"/Users/eden.yavin/Projects/Tabular-Cloud-ML/store/dataset_w_cl_wo_em.pkl\", \"rb\") as f:\n",
    "    dataset = pickle.load(f)"
   ],
   "id": "9776064e2f7f02d2",
   "outputs": [],
   "execution_count": 3
  },
  {
   "metadata": {},
   "cell_type": "markdown",
   "source": "## Dense IIN Model",
   "id": "54adf4540e8f8045"
  },
  {
   "metadata": {
    "ExecuteTime": {
     "end_time": "2025-05-11T17:44:00.438818Z",
     "start_time": "2025-05-11T17:44:00.355324Z"
    }
   },
   "cell_type": "code",
   "source": [
    "try:\n",
    "    del model\n",
    "except:\n",
    "    pass\n",
    "\n",
    "inputs = Input(shape=(dataset.train.features.shape[1],))  # Dynamic input shape\n",
    "\n",
    "x = BatchNormalization()(inputs)\n",
    "x = Dense(units=2048, activation='leaky_relu')(x)\n",
    "x = Dropout(0.1)(x)\n",
    "\n",
    "x = BatchNormalization()(inputs)\n",
    "x = Dense(units=1024, activation='leaky_relu')(x)\n",
    "x = Dropout(0.1)(x)\n",
    "\n",
    "x = BatchNormalization()(x)\n",
    "x = Dense(units=512, activation='leaky_relu')(x)\n",
    "x = Dropout(0.1)(x)\n",
    "\n",
    "x = BatchNormalization()(x)\n",
    "x = Dense(units=256, activation='leaky_relu')(x)\n",
    "x = Dropout(0.1)(x)\n",
    "\n",
    "x = BatchNormalization()(x)\n",
    "x = Dense(units=128, activation='leaky_relu')(x)\n",
    "x = Dropout(0.1)(x)\n",
    "\n",
    "# Define the output layer\n",
    "outputs = Dense(units=2, activation='softmax')(x)\n",
    "\n",
    "# Create the model\n",
    "model = Model(inputs=inputs, outputs=outputs)\n",
    "\n",
    "# Compile the model with F1 Score\n",
    "model.compile(optimizer='adam',\n",
    "              loss='categorical_crossentropy',\n",
    "              metrics=['accuracy']\n",
    "              )\n",
    "model.summary()"
   ],
   "id": "8ff5681b21546d41",
   "outputs": [
    {
     "data": {
      "text/plain": [
       "\u001B[1mModel: \"functional_14\"\u001B[0m\n"
      ],
      "text/html": [
       "<pre style=\"white-space:pre;overflow-x:auto;line-height:normal;font-family:Menlo,'DejaVu Sans Mono',consolas,'Courier New',monospace\"><span style=\"font-weight: bold\">Model: \"functional_14\"</span>\n",
       "</pre>\n"
      ]
     },
     "metadata": {},
     "output_type": "display_data"
    },
    {
     "data": {
      "text/plain": [
       "┏━━━━━━━━━━━━━━━━━━━━━━━━━━━━━━━━━┳━━━━━━━━━━━━━━━━━━━━━━━━┳━━━━━━━━━━━━━━━┓\n",
       "┃\u001B[1m \u001B[0m\u001B[1mLayer (type)                   \u001B[0m\u001B[1m \u001B[0m┃\u001B[1m \u001B[0m\u001B[1mOutput Shape          \u001B[0m\u001B[1m \u001B[0m┃\u001B[1m \u001B[0m\u001B[1m      Param #\u001B[0m\u001B[1m \u001B[0m┃\n",
       "┡━━━━━━━━━━━━━━━━━━━━━━━━━━━━━━━━━╇━━━━━━━━━━━━━━━━━━━━━━━━╇━━━━━━━━━━━━━━━┩\n",
       "│ input_layer_18 (\u001B[38;5;33mInputLayer\u001B[0m)     │ (\u001B[38;5;45mNone\u001B[0m, \u001B[38;5;34m4584\u001B[0m)           │             \u001B[38;5;34m0\u001B[0m │\n",
       "├─────────────────────────────────┼────────────────────────┼───────────────┤\n",
       "│ batch_normalization_27          │ (\u001B[38;5;45mNone\u001B[0m, \u001B[38;5;34m4584\u001B[0m)           │        \u001B[38;5;34m18,336\u001B[0m │\n",
       "│ (\u001B[38;5;33mBatchNormalization\u001B[0m)            │                        │               │\n",
       "├─────────────────────────────────┼────────────────────────┼───────────────┤\n",
       "│ dense_57 (\u001B[38;5;33mDense\u001B[0m)                │ (\u001B[38;5;45mNone\u001B[0m, \u001B[38;5;34m1024\u001B[0m)           │     \u001B[38;5;34m4,695,040\u001B[0m │\n",
       "├─────────────────────────────────┼────────────────────────┼───────────────┤\n",
       "│ dropout_39 (\u001B[38;5;33mDropout\u001B[0m)            │ (\u001B[38;5;45mNone\u001B[0m, \u001B[38;5;34m1024\u001B[0m)           │             \u001B[38;5;34m0\u001B[0m │\n",
       "├─────────────────────────────────┼────────────────────────┼───────────────┤\n",
       "│ batch_normalization_28          │ (\u001B[38;5;45mNone\u001B[0m, \u001B[38;5;34m1024\u001B[0m)           │         \u001B[38;5;34m4,096\u001B[0m │\n",
       "│ (\u001B[38;5;33mBatchNormalization\u001B[0m)            │                        │               │\n",
       "├─────────────────────────────────┼────────────────────────┼───────────────┤\n",
       "│ dense_58 (\u001B[38;5;33mDense\u001B[0m)                │ (\u001B[38;5;45mNone\u001B[0m, \u001B[38;5;34m512\u001B[0m)            │       \u001B[38;5;34m524,800\u001B[0m │\n",
       "├─────────────────────────────────┼────────────────────────┼───────────────┤\n",
       "│ dropout_40 (\u001B[38;5;33mDropout\u001B[0m)            │ (\u001B[38;5;45mNone\u001B[0m, \u001B[38;5;34m512\u001B[0m)            │             \u001B[38;5;34m0\u001B[0m │\n",
       "├─────────────────────────────────┼────────────────────────┼───────────────┤\n",
       "│ batch_normalization_29          │ (\u001B[38;5;45mNone\u001B[0m, \u001B[38;5;34m512\u001B[0m)            │         \u001B[38;5;34m2,048\u001B[0m │\n",
       "│ (\u001B[38;5;33mBatchNormalization\u001B[0m)            │                        │               │\n",
       "├─────────────────────────────────┼────────────────────────┼───────────────┤\n",
       "│ dense_59 (\u001B[38;5;33mDense\u001B[0m)                │ (\u001B[38;5;45mNone\u001B[0m, \u001B[38;5;34m256\u001B[0m)            │       \u001B[38;5;34m131,328\u001B[0m │\n",
       "├─────────────────────────────────┼────────────────────────┼───────────────┤\n",
       "│ dropout_41 (\u001B[38;5;33mDropout\u001B[0m)            │ (\u001B[38;5;45mNone\u001B[0m, \u001B[38;5;34m256\u001B[0m)            │             \u001B[38;5;34m0\u001B[0m │\n",
       "├─────────────────────────────────┼────────────────────────┼───────────────┤\n",
       "│ batch_normalization_30          │ (\u001B[38;5;45mNone\u001B[0m, \u001B[38;5;34m256\u001B[0m)            │         \u001B[38;5;34m1,024\u001B[0m │\n",
       "│ (\u001B[38;5;33mBatchNormalization\u001B[0m)            │                        │               │\n",
       "├─────────────────────────────────┼────────────────────────┼───────────────┤\n",
       "│ dense_60 (\u001B[38;5;33mDense\u001B[0m)                │ (\u001B[38;5;45mNone\u001B[0m, \u001B[38;5;34m128\u001B[0m)            │        \u001B[38;5;34m32,896\u001B[0m │\n",
       "├─────────────────────────────────┼────────────────────────┼───────────────┤\n",
       "│ dropout_42 (\u001B[38;5;33mDropout\u001B[0m)            │ (\u001B[38;5;45mNone\u001B[0m, \u001B[38;5;34m128\u001B[0m)            │             \u001B[38;5;34m0\u001B[0m │\n",
       "├─────────────────────────────────┼────────────────────────┼───────────────┤\n",
       "│ dense_61 (\u001B[38;5;33mDense\u001B[0m)                │ (\u001B[38;5;45mNone\u001B[0m, \u001B[38;5;34m2\u001B[0m)              │           \u001B[38;5;34m258\u001B[0m │\n",
       "└─────────────────────────────────┴────────────────────────┴───────────────┘\n"
      ],
      "text/html": [
       "<pre style=\"white-space:pre;overflow-x:auto;line-height:normal;font-family:Menlo,'DejaVu Sans Mono',consolas,'Courier New',monospace\">┏━━━━━━━━━━━━━━━━━━━━━━━━━━━━━━━━━┳━━━━━━━━━━━━━━━━━━━━━━━━┳━━━━━━━━━━━━━━━┓\n",
       "┃<span style=\"font-weight: bold\"> Layer (type)                    </span>┃<span style=\"font-weight: bold\"> Output Shape           </span>┃<span style=\"font-weight: bold\">       Param # </span>┃\n",
       "┡━━━━━━━━━━━━━━━━━━━━━━━━━━━━━━━━━╇━━━━━━━━━━━━━━━━━━━━━━━━╇━━━━━━━━━━━━━━━┩\n",
       "│ input_layer_18 (<span style=\"color: #0087ff; text-decoration-color: #0087ff\">InputLayer</span>)     │ (<span style=\"color: #00d7ff; text-decoration-color: #00d7ff\">None</span>, <span style=\"color: #00af00; text-decoration-color: #00af00\">4584</span>)           │             <span style=\"color: #00af00; text-decoration-color: #00af00\">0</span> │\n",
       "├─────────────────────────────────┼────────────────────────┼───────────────┤\n",
       "│ batch_normalization_27          │ (<span style=\"color: #00d7ff; text-decoration-color: #00d7ff\">None</span>, <span style=\"color: #00af00; text-decoration-color: #00af00\">4584</span>)           │        <span style=\"color: #00af00; text-decoration-color: #00af00\">18,336</span> │\n",
       "│ (<span style=\"color: #0087ff; text-decoration-color: #0087ff\">BatchNormalization</span>)            │                        │               │\n",
       "├─────────────────────────────────┼────────────────────────┼───────────────┤\n",
       "│ dense_57 (<span style=\"color: #0087ff; text-decoration-color: #0087ff\">Dense</span>)                │ (<span style=\"color: #00d7ff; text-decoration-color: #00d7ff\">None</span>, <span style=\"color: #00af00; text-decoration-color: #00af00\">1024</span>)           │     <span style=\"color: #00af00; text-decoration-color: #00af00\">4,695,040</span> │\n",
       "├─────────────────────────────────┼────────────────────────┼───────────────┤\n",
       "│ dropout_39 (<span style=\"color: #0087ff; text-decoration-color: #0087ff\">Dropout</span>)            │ (<span style=\"color: #00d7ff; text-decoration-color: #00d7ff\">None</span>, <span style=\"color: #00af00; text-decoration-color: #00af00\">1024</span>)           │             <span style=\"color: #00af00; text-decoration-color: #00af00\">0</span> │\n",
       "├─────────────────────────────────┼────────────────────────┼───────────────┤\n",
       "│ batch_normalization_28          │ (<span style=\"color: #00d7ff; text-decoration-color: #00d7ff\">None</span>, <span style=\"color: #00af00; text-decoration-color: #00af00\">1024</span>)           │         <span style=\"color: #00af00; text-decoration-color: #00af00\">4,096</span> │\n",
       "│ (<span style=\"color: #0087ff; text-decoration-color: #0087ff\">BatchNormalization</span>)            │                        │               │\n",
       "├─────────────────────────────────┼────────────────────────┼───────────────┤\n",
       "│ dense_58 (<span style=\"color: #0087ff; text-decoration-color: #0087ff\">Dense</span>)                │ (<span style=\"color: #00d7ff; text-decoration-color: #00d7ff\">None</span>, <span style=\"color: #00af00; text-decoration-color: #00af00\">512</span>)            │       <span style=\"color: #00af00; text-decoration-color: #00af00\">524,800</span> │\n",
       "├─────────────────────────────────┼────────────────────────┼───────────────┤\n",
       "│ dropout_40 (<span style=\"color: #0087ff; text-decoration-color: #0087ff\">Dropout</span>)            │ (<span style=\"color: #00d7ff; text-decoration-color: #00d7ff\">None</span>, <span style=\"color: #00af00; text-decoration-color: #00af00\">512</span>)            │             <span style=\"color: #00af00; text-decoration-color: #00af00\">0</span> │\n",
       "├─────────────────────────────────┼────────────────────────┼───────────────┤\n",
       "│ batch_normalization_29          │ (<span style=\"color: #00d7ff; text-decoration-color: #00d7ff\">None</span>, <span style=\"color: #00af00; text-decoration-color: #00af00\">512</span>)            │         <span style=\"color: #00af00; text-decoration-color: #00af00\">2,048</span> │\n",
       "│ (<span style=\"color: #0087ff; text-decoration-color: #0087ff\">BatchNormalization</span>)            │                        │               │\n",
       "├─────────────────────────────────┼────────────────────────┼───────────────┤\n",
       "│ dense_59 (<span style=\"color: #0087ff; text-decoration-color: #0087ff\">Dense</span>)                │ (<span style=\"color: #00d7ff; text-decoration-color: #00d7ff\">None</span>, <span style=\"color: #00af00; text-decoration-color: #00af00\">256</span>)            │       <span style=\"color: #00af00; text-decoration-color: #00af00\">131,328</span> │\n",
       "├─────────────────────────────────┼────────────────────────┼───────────────┤\n",
       "│ dropout_41 (<span style=\"color: #0087ff; text-decoration-color: #0087ff\">Dropout</span>)            │ (<span style=\"color: #00d7ff; text-decoration-color: #00d7ff\">None</span>, <span style=\"color: #00af00; text-decoration-color: #00af00\">256</span>)            │             <span style=\"color: #00af00; text-decoration-color: #00af00\">0</span> │\n",
       "├─────────────────────────────────┼────────────────────────┼───────────────┤\n",
       "│ batch_normalization_30          │ (<span style=\"color: #00d7ff; text-decoration-color: #00d7ff\">None</span>, <span style=\"color: #00af00; text-decoration-color: #00af00\">256</span>)            │         <span style=\"color: #00af00; text-decoration-color: #00af00\">1,024</span> │\n",
       "│ (<span style=\"color: #0087ff; text-decoration-color: #0087ff\">BatchNormalization</span>)            │                        │               │\n",
       "├─────────────────────────────────┼────────────────────────┼───────────────┤\n",
       "│ dense_60 (<span style=\"color: #0087ff; text-decoration-color: #0087ff\">Dense</span>)                │ (<span style=\"color: #00d7ff; text-decoration-color: #00d7ff\">None</span>, <span style=\"color: #00af00; text-decoration-color: #00af00\">128</span>)            │        <span style=\"color: #00af00; text-decoration-color: #00af00\">32,896</span> │\n",
       "├─────────────────────────────────┼────────────────────────┼───────────────┤\n",
       "│ dropout_42 (<span style=\"color: #0087ff; text-decoration-color: #0087ff\">Dropout</span>)            │ (<span style=\"color: #00d7ff; text-decoration-color: #00d7ff\">None</span>, <span style=\"color: #00af00; text-decoration-color: #00af00\">128</span>)            │             <span style=\"color: #00af00; text-decoration-color: #00af00\">0</span> │\n",
       "├─────────────────────────────────┼────────────────────────┼───────────────┤\n",
       "│ dense_61 (<span style=\"color: #0087ff; text-decoration-color: #0087ff\">Dense</span>)                │ (<span style=\"color: #00d7ff; text-decoration-color: #00d7ff\">None</span>, <span style=\"color: #00af00; text-decoration-color: #00af00\">2</span>)              │           <span style=\"color: #00af00; text-decoration-color: #00af00\">258</span> │\n",
       "└─────────────────────────────────┴────────────────────────┴───────────────┘\n",
       "</pre>\n"
      ]
     },
     "metadata": {},
     "output_type": "display_data"
    },
    {
     "data": {
      "text/plain": [
       "\u001B[1m Total params: \u001B[0m\u001B[38;5;34m5,409,826\u001B[0m (20.64 MB)\n"
      ],
      "text/html": [
       "<pre style=\"white-space:pre;overflow-x:auto;line-height:normal;font-family:Menlo,'DejaVu Sans Mono',consolas,'Courier New',monospace\"><span style=\"font-weight: bold\"> Total params: </span><span style=\"color: #00af00; text-decoration-color: #00af00\">5,409,826</span> (20.64 MB)\n",
       "</pre>\n"
      ]
     },
     "metadata": {},
     "output_type": "display_data"
    },
    {
     "data": {
      "text/plain": [
       "\u001B[1m Trainable params: \u001B[0m\u001B[38;5;34m5,397,074\u001B[0m (20.59 MB)\n"
      ],
      "text/html": [
       "<pre style=\"white-space:pre;overflow-x:auto;line-height:normal;font-family:Menlo,'DejaVu Sans Mono',consolas,'Courier New',monospace\"><span style=\"font-weight: bold\"> Trainable params: </span><span style=\"color: #00af00; text-decoration-color: #00af00\">5,397,074</span> (20.59 MB)\n",
       "</pre>\n"
      ]
     },
     "metadata": {},
     "output_type": "display_data"
    },
    {
     "data": {
      "text/plain": [
       "\u001B[1m Non-trainable params: \u001B[0m\u001B[38;5;34m12,752\u001B[0m (49.81 KB)\n"
      ],
      "text/html": [
       "<pre style=\"white-space:pre;overflow-x:auto;line-height:normal;font-family:Menlo,'DejaVu Sans Mono',consolas,'Courier New',monospace\"><span style=\"font-weight: bold\"> Non-trainable params: </span><span style=\"color: #00af00; text-decoration-color: #00af00\">12,752</span> (49.81 KB)\n",
       "</pre>\n"
      ]
     },
     "metadata": {},
     "output_type": "display_data"
    }
   ],
   "execution_count": 90
  },
  {
   "metadata": {
    "ExecuteTime": {
     "end_time": "2025-05-11T17:48:39.221733Z",
     "start_time": "2025-05-11T17:44:00.447805Z"
    }
   },
   "cell_type": "code",
   "source": [
    "import tensorflow as tf\n",
    "with tf.device('/gpu:0'):\n",
    "    lr_scheduler = LearningRateScheduler(lambda epoch: 0.0001 * (0.9 ** epoch))\n",
    "    early_stopping = EarlyStopping(patience=2, monitor='loss')\n",
    "    model.fit(dataset.train.features, dataset.train.labels, validation_data=(dataset.test.features, dataset.test.labels),\n",
    " epochs=20, batch_size=64, callbacks=[lr_scheduler, early_stopping], verbose=2)"
   ],
   "id": "b525677c4e972e09",
   "outputs": [
    {
     "name": "stdout",
     "output_type": "stream",
     "text": [
      "Epoch 1/20\n",
      "521/521 - 16s - 30ms/step - accuracy: 0.5125 - loss: 0.7704 - val_accuracy: 0.5143 - val_loss: 0.7007 - learning_rate: 1.0000e-04\n",
      "Epoch 2/20\n",
      "521/521 - 14s - 27ms/step - accuracy: 0.5174 - loss: 0.7277 - val_accuracy: 0.5092 - val_loss: 0.6969 - learning_rate: 9.0000e-05\n",
      "Epoch 3/20\n",
      "521/521 - 14s - 27ms/step - accuracy: 0.5220 - loss: 0.7122 - val_accuracy: 0.4965 - val_loss: 0.7113 - learning_rate: 8.1000e-05\n",
      "Epoch 4/20\n",
      "521/521 - 14s - 27ms/step - accuracy: 0.5276 - loss: 0.7068 - val_accuracy: 0.5032 - val_loss: 0.6962 - learning_rate: 7.2900e-05\n",
      "Epoch 5/20\n",
      "521/521 - 14s - 27ms/step - accuracy: 0.5229 - loss: 0.7050 - val_accuracy: 0.5057 - val_loss: 0.7068 - learning_rate: 6.5610e-05\n",
      "Epoch 6/20\n",
      "521/521 - 14s - 27ms/step - accuracy: 0.5245 - loss: 0.7013 - val_accuracy: 0.5149 - val_loss: 0.6984 - learning_rate: 5.9049e-05\n",
      "Epoch 7/20\n",
      "521/521 - 14s - 27ms/step - accuracy: 0.5301 - loss: 0.6984 - val_accuracy: 0.5143 - val_loss: 0.6988 - learning_rate: 5.3144e-05\n",
      "Epoch 8/20\n",
      "521/521 - 14s - 26ms/step - accuracy: 0.5298 - loss: 0.6992 - val_accuracy: 0.5146 - val_loss: 0.6981 - learning_rate: 4.7830e-05\n",
      "Epoch 9/20\n",
      "521/521 - 14s - 26ms/step - accuracy: 0.5323 - loss: 0.6968 - val_accuracy: 0.5157 - val_loss: 0.6942 - learning_rate: 4.3047e-05\n",
      "Epoch 10/20\n",
      "521/521 - 14s - 27ms/step - accuracy: 0.5320 - loss: 0.6952 - val_accuracy: 0.4970 - val_loss: 0.7034 - learning_rate: 3.8742e-05\n",
      "Epoch 11/20\n",
      "521/521 - 14s - 27ms/step - accuracy: 0.5289 - loss: 0.6963 - val_accuracy: 0.5092 - val_loss: 0.6984 - learning_rate: 3.4868e-05\n",
      "Epoch 12/20\n",
      "521/521 - 14s - 26ms/step - accuracy: 0.5318 - loss: 0.6940 - val_accuracy: 0.5195 - val_loss: 0.6950 - learning_rate: 3.1381e-05\n",
      "Epoch 13/20\n",
      "521/521 - 14s - 26ms/step - accuracy: 0.5341 - loss: 0.6932 - val_accuracy: 0.5122 - val_loss: 0.6987 - learning_rate: 2.8243e-05\n",
      "Epoch 14/20\n",
      "521/521 - 14s - 26ms/step - accuracy: 0.5355 - loss: 0.6922 - val_accuracy: 0.5149 - val_loss: 0.6935 - learning_rate: 2.5419e-05\n",
      "Epoch 15/20\n",
      "521/521 - 14s - 26ms/step - accuracy: 0.5381 - loss: 0.6913 - val_accuracy: 0.5154 - val_loss: 0.6968 - learning_rate: 2.2877e-05\n",
      "Epoch 16/20\n",
      "521/521 - 14s - 26ms/step - accuracy: 0.5346 - loss: 0.6915 - val_accuracy: 0.5111 - val_loss: 0.6943 - learning_rate: 2.0589e-05\n",
      "Epoch 17/20\n",
      "521/521 - 14s - 26ms/step - accuracy: 0.5392 - loss: 0.6898 - val_accuracy: 0.5111 - val_loss: 0.6995 - learning_rate: 1.8530e-05\n",
      "Epoch 18/20\n",
      "521/521 - 14s - 26ms/step - accuracy: 0.5392 - loss: 0.6888 - val_accuracy: 0.5124 - val_loss: 0.6977 - learning_rate: 1.6677e-05\n",
      "Epoch 19/20\n",
      "521/521 - 14s - 26ms/step - accuracy: 0.5398 - loss: 0.6894 - val_accuracy: 0.5097 - val_loss: 0.6978 - learning_rate: 1.5009e-05\n",
      "Epoch 20/20\n",
      "521/521 - 14s - 26ms/step - accuracy: 0.5402 - loss: 0.6891 - val_accuracy: 0.5103 - val_loss: 0.6984 - learning_rate: 1.3509e-05\n"
     ]
    }
   ],
   "execution_count": 91
  },
  {
   "metadata": {
    "ExecuteTime": {
     "end_time": "2025-05-11T17:48:39.648533Z",
     "start_time": "2025-05-11T17:48:39.234472Z"
    }
   },
   "cell_type": "code",
   "source": "print(evaluate(model, dataset.test.features, dataset.test.labels))",
   "id": "8047eaefe8fb6cf5",
   "outputs": [
    {
     "name": "stdout",
     "output_type": "stream",
     "text": [
      "\u001B[1m116/116\u001B[0m \u001B[32m━━━━━━━━━━━━━━━━━━━━\u001B[0m\u001B[37m\u001B[0m \u001B[1m0s\u001B[0m 2ms/step\n",
      "## Accuracy: 0.5102702702702703\n",
      "\n",
      "## F1 Score: 0.49427609610474016\n",
      "\n",
      "\n",
      "(0.5102702702702703, 0.49427609610474016)\n"
     ]
    }
   ],
   "execution_count": 92
  },
  {
   "metadata": {},
   "cell_type": "markdown",
   "source": "## LSTM",
   "id": "809b5fe5d77aa3cb"
  },
  {
   "metadata": {
    "ExecuteTime": {
     "end_time": "2025-05-13T05:53:14.576932Z",
     "start_time": "2025-05-13T05:53:14.467413Z"
    }
   },
   "cell_type": "code",
   "source": [
    "from keras.api.layers import LSTM, RepeatVector\n",
    "\n",
    "try:\n",
    "    del lstm\n",
    "except:\n",
    "    pass\n",
    "# Define input shape with sequential data\n",
    "# 512 is the shape of the clip embedding that is why I'm choosing that\n",
    "inputs = Input(shape=(1, dataset.train.features.shape[1]))  # Add timesteps dimension\n",
    "\n",
    "# # LSTM Embedding Layer\n",
    "# x = LSTM(units=256, return_sequences=False)(inputs)  # Return the final state output as embedding\n",
    "#\n",
    "# # Optionally add dense layers after LSTM for better feature processing\n",
    "# x = Dense(units=128, activation='leaky_relu')(x)\n",
    "#\n",
    "# x = Dense(units=64, activation='leaky_relu')(x)\n",
    "# # Define the output layer for classification\n",
    "# outputs = Dense(units=2, activation='softmax')(x)\n",
    "# Stack multiple LSTM layers\n",
    "x = LSTM(units=256, return_sequences=True)(inputs)  # Outputs full sequence\n",
    "x = LSTM(units=128, return_sequences=True)(x)  # Another stacked LSTM\n",
    "x = LSTM(units=32, return_sequences=False)(x)  # Final LSTM only provides the final state\n",
    "\n",
    "# Optionally add Dense layers on top\n",
    "x = Dense(64, activation='relu')(x)\n",
    "x = Dropout(0.3)(x)\n",
    "outputs = Dense(2, activation='softmax')(x)\n",
    "\n",
    "\n",
    "# Create the model\n",
    "lstm = Model(inputs=inputs, outputs=outputs)\n",
    "\n",
    "# Compile the model\n",
    "lstm.compile(optimizer='adam',\n",
    "              loss='categorical_crossentropy',\n",
    "              metrics=['accuracy'])\n",
    "\n",
    "# Print summary\n",
    "lstm.summary()\n"
   ],
   "id": "3cd3364ca3757ffd",
   "outputs": [
    {
     "data": {
      "text/plain": [
       "\u001B[1mModel: \"functional_2\"\u001B[0m\n"
      ],
      "text/html": [
       "<pre style=\"white-space:pre;overflow-x:auto;line-height:normal;font-family:Menlo,'DejaVu Sans Mono',consolas,'Courier New',monospace\"><span style=\"font-weight: bold\">Model: \"functional_2\"</span>\n",
       "</pre>\n"
      ]
     },
     "metadata": {},
     "output_type": "display_data"
    },
    {
     "data": {
      "text/plain": [
       "┏━━━━━━━━━━━━━━━━━━━━━━━━━━━━━━━━━┳━━━━━━━━━━━━━━━━━━━━━━━━┳━━━━━━━━━━━━━━━┓\n",
       "┃\u001B[1m \u001B[0m\u001B[1mLayer (type)                   \u001B[0m\u001B[1m \u001B[0m┃\u001B[1m \u001B[0m\u001B[1mOutput Shape          \u001B[0m\u001B[1m \u001B[0m┃\u001B[1m \u001B[0m\u001B[1m      Param #\u001B[0m\u001B[1m \u001B[0m┃\n",
       "┡━━━━━━━━━━━━━━━━━━━━━━━━━━━━━━━━━╇━━━━━━━━━━━━━━━━━━━━━━━━╇━━━━━━━━━━━━━━━┩\n",
       "│ input_layer_2 (\u001B[38;5;33mInputLayer\u001B[0m)      │ (\u001B[38;5;45mNone\u001B[0m, \u001B[38;5;34m1\u001B[0m, \u001B[38;5;34m4584\u001B[0m)        │             \u001B[38;5;34m0\u001B[0m │\n",
       "├─────────────────────────────────┼────────────────────────┼───────────────┤\n",
       "│ lstm_4 (\u001B[38;5;33mLSTM\u001B[0m)                   │ (\u001B[38;5;45mNone\u001B[0m, \u001B[38;5;34m1\u001B[0m, \u001B[38;5;34m256\u001B[0m)         │     \u001B[38;5;34m4,957,184\u001B[0m │\n",
       "├─────────────────────────────────┼────────────────────────┼───────────────┤\n",
       "│ lstm_5 (\u001B[38;5;33mLSTM\u001B[0m)                   │ (\u001B[38;5;45mNone\u001B[0m, \u001B[38;5;34m1\u001B[0m, \u001B[38;5;34m128\u001B[0m)         │       \u001B[38;5;34m197,120\u001B[0m │\n",
       "├─────────────────────────────────┼────────────────────────┼───────────────┤\n",
       "│ lstm_6 (\u001B[38;5;33mLSTM\u001B[0m)                   │ (\u001B[38;5;45mNone\u001B[0m, \u001B[38;5;34m32\u001B[0m)             │        \u001B[38;5;34m20,608\u001B[0m │\n",
       "├─────────────────────────────────┼────────────────────────┼───────────────┤\n",
       "│ dense_5 (\u001B[38;5;33mDense\u001B[0m)                 │ (\u001B[38;5;45mNone\u001B[0m, \u001B[38;5;34m64\u001B[0m)             │         \u001B[38;5;34m2,112\u001B[0m │\n",
       "├─────────────────────────────────┼────────────────────────┼───────────────┤\n",
       "│ dropout_1 (\u001B[38;5;33mDropout\u001B[0m)             │ (\u001B[38;5;45mNone\u001B[0m, \u001B[38;5;34m64\u001B[0m)             │             \u001B[38;5;34m0\u001B[0m │\n",
       "├─────────────────────────────────┼────────────────────────┼───────────────┤\n",
       "│ dense_6 (\u001B[38;5;33mDense\u001B[0m)                 │ (\u001B[38;5;45mNone\u001B[0m, \u001B[38;5;34m2\u001B[0m)              │           \u001B[38;5;34m130\u001B[0m │\n",
       "└─────────────────────────────────┴────────────────────────┴───────────────┘\n"
      ],
      "text/html": [
       "<pre style=\"white-space:pre;overflow-x:auto;line-height:normal;font-family:Menlo,'DejaVu Sans Mono',consolas,'Courier New',monospace\">┏━━━━━━━━━━━━━━━━━━━━━━━━━━━━━━━━━┳━━━━━━━━━━━━━━━━━━━━━━━━┳━━━━━━━━━━━━━━━┓\n",
       "┃<span style=\"font-weight: bold\"> Layer (type)                    </span>┃<span style=\"font-weight: bold\"> Output Shape           </span>┃<span style=\"font-weight: bold\">       Param # </span>┃\n",
       "┡━━━━━━━━━━━━━━━━━━━━━━━━━━━━━━━━━╇━━━━━━━━━━━━━━━━━━━━━━━━╇━━━━━━━━━━━━━━━┩\n",
       "│ input_layer_2 (<span style=\"color: #0087ff; text-decoration-color: #0087ff\">InputLayer</span>)      │ (<span style=\"color: #00d7ff; text-decoration-color: #00d7ff\">None</span>, <span style=\"color: #00af00; text-decoration-color: #00af00\">1</span>, <span style=\"color: #00af00; text-decoration-color: #00af00\">4584</span>)        │             <span style=\"color: #00af00; text-decoration-color: #00af00\">0</span> │\n",
       "├─────────────────────────────────┼────────────────────────┼───────────────┤\n",
       "│ lstm_4 (<span style=\"color: #0087ff; text-decoration-color: #0087ff\">LSTM</span>)                   │ (<span style=\"color: #00d7ff; text-decoration-color: #00d7ff\">None</span>, <span style=\"color: #00af00; text-decoration-color: #00af00\">1</span>, <span style=\"color: #00af00; text-decoration-color: #00af00\">256</span>)         │     <span style=\"color: #00af00; text-decoration-color: #00af00\">4,957,184</span> │\n",
       "├─────────────────────────────────┼────────────────────────┼───────────────┤\n",
       "│ lstm_5 (<span style=\"color: #0087ff; text-decoration-color: #0087ff\">LSTM</span>)                   │ (<span style=\"color: #00d7ff; text-decoration-color: #00d7ff\">None</span>, <span style=\"color: #00af00; text-decoration-color: #00af00\">1</span>, <span style=\"color: #00af00; text-decoration-color: #00af00\">128</span>)         │       <span style=\"color: #00af00; text-decoration-color: #00af00\">197,120</span> │\n",
       "├─────────────────────────────────┼────────────────────────┼───────────────┤\n",
       "│ lstm_6 (<span style=\"color: #0087ff; text-decoration-color: #0087ff\">LSTM</span>)                   │ (<span style=\"color: #00d7ff; text-decoration-color: #00d7ff\">None</span>, <span style=\"color: #00af00; text-decoration-color: #00af00\">32</span>)             │        <span style=\"color: #00af00; text-decoration-color: #00af00\">20,608</span> │\n",
       "├─────────────────────────────────┼────────────────────────┼───────────────┤\n",
       "│ dense_5 (<span style=\"color: #0087ff; text-decoration-color: #0087ff\">Dense</span>)                 │ (<span style=\"color: #00d7ff; text-decoration-color: #00d7ff\">None</span>, <span style=\"color: #00af00; text-decoration-color: #00af00\">64</span>)             │         <span style=\"color: #00af00; text-decoration-color: #00af00\">2,112</span> │\n",
       "├─────────────────────────────────┼────────────────────────┼───────────────┤\n",
       "│ dropout_1 (<span style=\"color: #0087ff; text-decoration-color: #0087ff\">Dropout</span>)             │ (<span style=\"color: #00d7ff; text-decoration-color: #00d7ff\">None</span>, <span style=\"color: #00af00; text-decoration-color: #00af00\">64</span>)             │             <span style=\"color: #00af00; text-decoration-color: #00af00\">0</span> │\n",
       "├─────────────────────────────────┼────────────────────────┼───────────────┤\n",
       "│ dense_6 (<span style=\"color: #0087ff; text-decoration-color: #0087ff\">Dense</span>)                 │ (<span style=\"color: #00d7ff; text-decoration-color: #00d7ff\">None</span>, <span style=\"color: #00af00; text-decoration-color: #00af00\">2</span>)              │           <span style=\"color: #00af00; text-decoration-color: #00af00\">130</span> │\n",
       "└─────────────────────────────────┴────────────────────────┴───────────────┘\n",
       "</pre>\n"
      ]
     },
     "metadata": {},
     "output_type": "display_data"
    },
    {
     "data": {
      "text/plain": [
       "\u001B[1m Total params: \u001B[0m\u001B[38;5;34m5,177,154\u001B[0m (19.75 MB)\n"
      ],
      "text/html": [
       "<pre style=\"white-space:pre;overflow-x:auto;line-height:normal;font-family:Menlo,'DejaVu Sans Mono',consolas,'Courier New',monospace\"><span style=\"font-weight: bold\"> Total params: </span><span style=\"color: #00af00; text-decoration-color: #00af00\">5,177,154</span> (19.75 MB)\n",
       "</pre>\n"
      ]
     },
     "metadata": {},
     "output_type": "display_data"
    },
    {
     "data": {
      "text/plain": [
       "\u001B[1m Trainable params: \u001B[0m\u001B[38;5;34m5,177,154\u001B[0m (19.75 MB)\n"
      ],
      "text/html": [
       "<pre style=\"white-space:pre;overflow-x:auto;line-height:normal;font-family:Menlo,'DejaVu Sans Mono',consolas,'Courier New',monospace\"><span style=\"font-weight: bold\"> Trainable params: </span><span style=\"color: #00af00; text-decoration-color: #00af00\">5,177,154</span> (19.75 MB)\n",
       "</pre>\n"
      ]
     },
     "metadata": {},
     "output_type": "display_data"
    },
    {
     "data": {
      "text/plain": [
       "\u001B[1m Non-trainable params: \u001B[0m\u001B[38;5;34m0\u001B[0m (0.00 B)\n"
      ],
      "text/html": [
       "<pre style=\"white-space:pre;overflow-x:auto;line-height:normal;font-family:Menlo,'DejaVu Sans Mono',consolas,'Courier New',monospace\"><span style=\"font-weight: bold\"> Non-trainable params: </span><span style=\"color: #00af00; text-decoration-color: #00af00\">0</span> (0.00 B)\n",
       "</pre>\n"
      ]
     },
     "metadata": {},
     "output_type": "display_data"
    }
   ],
   "execution_count": 11
  },
  {
   "metadata": {
    "ExecuteTime": {
     "end_time": "2025-05-13T05:58:26.315213Z",
     "start_time": "2025-05-13T05:53:56.953436Z"
    }
   },
   "cell_type": "code",
   "source": [
    "import tensorflow as tf\n",
    "from keras.api.callbacks import LearningRateScheduler, EarlyStopping, Callback\n",
    "\n",
    "\n",
    "X_train_reshaped = dataset.train.features.reshape(-1, 1, dataset.train.features.shape[1])\n",
    "X_test_reshaped  = dataset.test.features.reshape(-1, 1, dataset.test.features.shape[1])\n",
    "\n",
    "\n",
    "# Assuming dataset.train.features and dataset.train.labels are re-shaped correctly\n",
    "with tf.device('/gpu:0'):\n",
    "    lr_scheduler = LearningRateScheduler(lambda epoch: 0.0001 * (0.9 ** epoch))\n",
    "    early_stopping = EarlyStopping(patience=2, monitor='loss', restore_best_weights=True)\n",
    "    lstm.fit(X_train_reshaped, dataset.train.labels,\n",
    "              validation_data=(X_test_reshaped, dataset.test.labels),\n",
    "              epochs=20, batch_size=64,\n",
    "                callbacks=[lr_scheduler, early_stopping],\n",
    "              verbose=2)\n",
    "\n"
   ],
   "id": "eb525673c9096244",
   "outputs": [
    {
     "name": "stdout",
     "output_type": "stream",
     "text": [
      "Epoch 1/20\n",
      "521/521 - 14s - 27ms/step - accuracy: 0.5292 - loss: 0.6898 - val_accuracy: 0.5146 - val_loss: 0.6910 - learning_rate: 1.0000e-04\n",
      "Epoch 2/20\n",
      "521/521 - 14s - 26ms/step - accuracy: 0.5338 - loss: 0.6891 - val_accuracy: 0.5173 - val_loss: 0.6908 - learning_rate: 9.0000e-05\n",
      "Epoch 3/20\n",
      "521/521 - 13s - 26ms/step - accuracy: 0.5351 - loss: 0.6890 - val_accuracy: 0.5149 - val_loss: 0.6908 - learning_rate: 8.1000e-05\n",
      "Epoch 4/20\n",
      "521/521 - 14s - 28ms/step - accuracy: 0.5367 - loss: 0.6885 - val_accuracy: 0.5186 - val_loss: 0.6906 - learning_rate: 7.2900e-05\n",
      "Epoch 5/20\n",
      "521/521 - 14s - 26ms/step - accuracy: 0.5346 - loss: 0.6883 - val_accuracy: 0.5130 - val_loss: 0.6907 - learning_rate: 6.5610e-05\n",
      "Epoch 6/20\n",
      "521/521 - 14s - 27ms/step - accuracy: 0.5352 - loss: 0.6881 - val_accuracy: 0.5154 - val_loss: 0.6905 - learning_rate: 5.9049e-05\n",
      "Epoch 7/20\n",
      "521/521 - 13s - 26ms/step - accuracy: 0.5392 - loss: 0.6879 - val_accuracy: 0.5170 - val_loss: 0.6914 - learning_rate: 5.3144e-05\n",
      "Epoch 8/20\n",
      "521/521 - 13s - 26ms/step - accuracy: 0.5368 - loss: 0.6877 - val_accuracy: 0.5165 - val_loss: 0.6909 - learning_rate: 4.7830e-05\n",
      "Epoch 9/20\n",
      "521/521 - 13s - 26ms/step - accuracy: 0.5379 - loss: 0.6877 - val_accuracy: 0.5141 - val_loss: 0.6911 - learning_rate: 4.3047e-05\n",
      "Epoch 10/20\n",
      "521/521 - 13s - 25ms/step - accuracy: 0.5379 - loss: 0.6872 - val_accuracy: 0.5189 - val_loss: 0.6907 - learning_rate: 3.8742e-05\n",
      "Epoch 11/20\n",
      "521/521 - 13s - 25ms/step - accuracy: 0.5384 - loss: 0.6871 - val_accuracy: 0.5197 - val_loss: 0.6905 - learning_rate: 3.4868e-05\n",
      "Epoch 12/20\n",
      "521/521 - 13s - 25ms/step - accuracy: 0.5377 - loss: 0.6868 - val_accuracy: 0.5208 - val_loss: 0.6906 - learning_rate: 3.1381e-05\n",
      "Epoch 13/20\n",
      "521/521 - 13s - 25ms/step - accuracy: 0.5402 - loss: 0.6864 - val_accuracy: 0.5130 - val_loss: 0.6910 - learning_rate: 2.8243e-05\n",
      "Epoch 14/20\n",
      "521/521 - 13s - 25ms/step - accuracy: 0.5404 - loss: 0.6865 - val_accuracy: 0.5192 - val_loss: 0.6910 - learning_rate: 2.5419e-05\n",
      "Epoch 15/20\n",
      "521/521 - 13s - 25ms/step - accuracy: 0.5396 - loss: 0.6864 - val_accuracy: 0.5186 - val_loss: 0.6912 - learning_rate: 2.2877e-05\n",
      "Epoch 16/20\n",
      "521/521 - 13s - 25ms/step - accuracy: 0.5412 - loss: 0.6863 - val_accuracy: 0.5208 - val_loss: 0.6907 - learning_rate: 2.0589e-05\n",
      "Epoch 17/20\n",
      "521/521 - 13s - 25ms/step - accuracy: 0.5414 - loss: 0.6860 - val_accuracy: 0.5192 - val_loss: 0.6908 - learning_rate: 1.8530e-05\n",
      "Epoch 18/20\n",
      "521/521 - 13s - 26ms/step - accuracy: 0.5408 - loss: 0.6860 - val_accuracy: 0.5203 - val_loss: 0.6910 - learning_rate: 1.6677e-05\n",
      "Epoch 19/20\n",
      "521/521 - 13s - 26ms/step - accuracy: 0.5435 - loss: 0.6860 - val_accuracy: 0.5195 - val_loss: 0.6911 - learning_rate: 1.5009e-05\n",
      "Epoch 20/20\n",
      "521/521 - 13s - 25ms/step - accuracy: 0.5419 - loss: 0.6855 - val_accuracy: 0.5208 - val_loss: 0.6911 - learning_rate: 1.3509e-05\n"
     ]
    }
   ],
   "execution_count": 13
  },
  {
   "metadata": {
    "ExecuteTime": {
     "end_time": "2025-05-13T05:49:03.218639Z",
     "start_time": "2025-05-13T05:49:02.920191Z"
    }
   },
   "cell_type": "code",
   "source": [
    "# 128 LSTM without dropout\n",
    "evaluate(lstm, X_test_reshaped, dataset.test.labels)"
   ],
   "id": "78b3591ba644c35b",
   "outputs": [
    {
     "name": "stdout",
     "output_type": "stream",
     "text": [
      "\u001B[1m116/116\u001B[0m \u001B[32m━━━━━━━━━━━━━━━━━━━━\u001B[0m\u001B[37m\u001B[0m \u001B[1m0s\u001B[0m 2ms/step\n",
      "## Accuracy: 0.5197297297297298\n",
      "\n",
      "## F1 Score: 0.5005535773631486\n",
      "\n",
      "\n"
     ]
    }
   ],
   "execution_count": 10
  },
  {
   "metadata": {},
   "cell_type": "markdown",
   "source": "# No Cloud | With Triangulation",
   "id": "2b7fc138ee6e04e9"
  },
  {
   "metadata": {
    "ExecuteTime": {
     "end_time": "2025-05-12T16:51:57.225710Z",
     "start_time": "2025-05-12T16:51:56.709698Z"
    }
   },
   "cell_type": "code",
   "source": [
    "with open(\"/Users/eden.yavin/Projects/Tabular-Cloud-ML/store/dataset_wo_cl_wo_em.pkl\", \"rb\") as f:\n",
    "    dataset = pickle.load(f)"
   ],
   "id": "cd2042121a9314fc",
   "outputs": [],
   "execution_count": 3
  },
  {
   "metadata": {},
   "cell_type": "markdown",
   "source": "## Dense IIN",
   "id": "b915ee650e8a2b07"
  },
  {
   "metadata": {
    "ExecuteTime": {
     "end_time": "2025-05-12T16:52:24.736713Z",
     "start_time": "2025-05-12T16:52:24.465928Z"
    }
   },
   "cell_type": "code",
   "source": [
    "try:\n",
    "    del model\n",
    "except:\n",
    "    pass\n",
    "\n",
    "inputs = Input(shape=(dataset.train.features.shape[1],))  # Dynamic input shape\n",
    "\n",
    "x = BatchNormalization()(inputs)\n",
    "x = Dense(units=2048, activation='leaky_relu')(x)\n",
    "x = Dropout(0.1)(x)\n",
    "\n",
    "x = BatchNormalization()(inputs)\n",
    "x = Dense(units=1024, activation='leaky_relu')(x)\n",
    "x = Dropout(0.1)(x)\n",
    "\n",
    "x = BatchNormalization()(x)\n",
    "x = Dense(units=512, activation='leaky_relu')(x)\n",
    "x = Dropout(0.1)(x)\n",
    "\n",
    "x = BatchNormalization()(x)\n",
    "x = Dense(units=256, activation='leaky_relu')(x)\n",
    "x = Dropout(0.1)(x)\n",
    "\n",
    "x = BatchNormalization()(x)\n",
    "x = Dense(units=128, activation='leaky_relu')(x)\n",
    "x = Dropout(0.1)(x)\n",
    "\n",
    "# Define the output layer\n",
    "outputs = Dense(units=2, activation='softmax')(x)\n",
    "\n",
    "# Create the model\n",
    "model = Model(inputs=inputs, outputs=outputs)\n",
    "\n",
    "# Compile the model with F1 Score\n",
    "model.compile(optimizer='adam',\n",
    "              loss='categorical_crossentropy',\n",
    "              metrics=['accuracy']\n",
    "              )\n",
    "model.summary()"
   ],
   "id": "2eec6222193ef87d",
   "outputs": [
    {
     "name": "stderr",
     "output_type": "stream",
     "text": [
      "2025-05-12 19:52:24.477151: I metal_plugin/src/device/metal_device.cc:1154] Metal device set to: Apple M3 Pro\n",
      "2025-05-12 19:52:24.477337: I metal_plugin/src/device/metal_device.cc:296] systemMemory: 36.00 GB\n",
      "2025-05-12 19:52:24.477344: I metal_plugin/src/device/metal_device.cc:313] maxCacheSize: 13.50 GB\n",
      "WARNING: All log messages before absl::InitializeLog() is called are written to STDERR\n",
      "I0000 00:00:1747068744.477811 1363900 pluggable_device_factory.cc:305] Could not identify NUMA node of platform GPU ID 0, defaulting to 0. Your kernel may not have been built with NUMA support.\n",
      "I0000 00:00:1747068744.477870 1363900 pluggable_device_factory.cc:271] Created TensorFlow device (/job:localhost/replica:0/task:0/device:GPU:0 with 0 MB memory) -> physical PluggableDevice (device: 0, name: METAL, pci bus id: <undefined>)\n"
     ]
    },
    {
     "data": {
      "text/plain": [
       "\u001B[1mModel: \"functional\"\u001B[0m\n"
      ],
      "text/html": [
       "<pre style=\"white-space:pre;overflow-x:auto;line-height:normal;font-family:Menlo,'DejaVu Sans Mono',consolas,'Courier New',monospace\"><span style=\"font-weight: bold\">Model: \"functional\"</span>\n",
       "</pre>\n"
      ]
     },
     "metadata": {},
     "output_type": "display_data"
    },
    {
     "data": {
      "text/plain": [
       "┏━━━━━━━━━━━━━━━━━━━━━━━━━━━━━━━━━┳━━━━━━━━━━━━━━━━━━━━━━━━┳━━━━━━━━━━━━━━━┓\n",
       "┃\u001B[1m \u001B[0m\u001B[1mLayer (type)                   \u001B[0m\u001B[1m \u001B[0m┃\u001B[1m \u001B[0m\u001B[1mOutput Shape          \u001B[0m\u001B[1m \u001B[0m┃\u001B[1m \u001B[0m\u001B[1m      Param #\u001B[0m\u001B[1m \u001B[0m┃\n",
       "┡━━━━━━━━━━━━━━━━━━━━━━━━━━━━━━━━━╇━━━━━━━━━━━━━━━━━━━━━━━━╇━━━━━━━━━━━━━━━┩\n",
       "│ input_layer (\u001B[38;5;33mInputLayer\u001B[0m)        │ (\u001B[38;5;45mNone\u001B[0m, \u001B[38;5;34m3584\u001B[0m)           │             \u001B[38;5;34m0\u001B[0m │\n",
       "├─────────────────────────────────┼────────────────────────┼───────────────┤\n",
       "│ batch_normalization_1           │ (\u001B[38;5;45mNone\u001B[0m, \u001B[38;5;34m3584\u001B[0m)           │        \u001B[38;5;34m14,336\u001B[0m │\n",
       "│ (\u001B[38;5;33mBatchNormalization\u001B[0m)            │                        │               │\n",
       "├─────────────────────────────────┼────────────────────────┼───────────────┤\n",
       "│ dense_1 (\u001B[38;5;33mDense\u001B[0m)                 │ (\u001B[38;5;45mNone\u001B[0m, \u001B[38;5;34m1024\u001B[0m)           │     \u001B[38;5;34m3,671,040\u001B[0m │\n",
       "├─────────────────────────────────┼────────────────────────┼───────────────┤\n",
       "│ dropout_1 (\u001B[38;5;33mDropout\u001B[0m)             │ (\u001B[38;5;45mNone\u001B[0m, \u001B[38;5;34m1024\u001B[0m)           │             \u001B[38;5;34m0\u001B[0m │\n",
       "├─────────────────────────────────┼────────────────────────┼───────────────┤\n",
       "│ batch_normalization_2           │ (\u001B[38;5;45mNone\u001B[0m, \u001B[38;5;34m1024\u001B[0m)           │         \u001B[38;5;34m4,096\u001B[0m │\n",
       "│ (\u001B[38;5;33mBatchNormalization\u001B[0m)            │                        │               │\n",
       "├─────────────────────────────────┼────────────────────────┼───────────────┤\n",
       "│ dense_2 (\u001B[38;5;33mDense\u001B[0m)                 │ (\u001B[38;5;45mNone\u001B[0m, \u001B[38;5;34m512\u001B[0m)            │       \u001B[38;5;34m524,800\u001B[0m │\n",
       "├─────────────────────────────────┼────────────────────────┼───────────────┤\n",
       "│ dropout_2 (\u001B[38;5;33mDropout\u001B[0m)             │ (\u001B[38;5;45mNone\u001B[0m, \u001B[38;5;34m512\u001B[0m)            │             \u001B[38;5;34m0\u001B[0m │\n",
       "├─────────────────────────────────┼────────────────────────┼───────────────┤\n",
       "│ batch_normalization_3           │ (\u001B[38;5;45mNone\u001B[0m, \u001B[38;5;34m512\u001B[0m)            │         \u001B[38;5;34m2,048\u001B[0m │\n",
       "│ (\u001B[38;5;33mBatchNormalization\u001B[0m)            │                        │               │\n",
       "├─────────────────────────────────┼────────────────────────┼───────────────┤\n",
       "│ dense_3 (\u001B[38;5;33mDense\u001B[0m)                 │ (\u001B[38;5;45mNone\u001B[0m, \u001B[38;5;34m256\u001B[0m)            │       \u001B[38;5;34m131,328\u001B[0m │\n",
       "├─────────────────────────────────┼────────────────────────┼───────────────┤\n",
       "│ dropout_3 (\u001B[38;5;33mDropout\u001B[0m)             │ (\u001B[38;5;45mNone\u001B[0m, \u001B[38;5;34m256\u001B[0m)            │             \u001B[38;5;34m0\u001B[0m │\n",
       "├─────────────────────────────────┼────────────────────────┼───────────────┤\n",
       "│ batch_normalization_4           │ (\u001B[38;5;45mNone\u001B[0m, \u001B[38;5;34m256\u001B[0m)            │         \u001B[38;5;34m1,024\u001B[0m │\n",
       "│ (\u001B[38;5;33mBatchNormalization\u001B[0m)            │                        │               │\n",
       "├─────────────────────────────────┼────────────────────────┼───────────────┤\n",
       "│ dense_4 (\u001B[38;5;33mDense\u001B[0m)                 │ (\u001B[38;5;45mNone\u001B[0m, \u001B[38;5;34m128\u001B[0m)            │        \u001B[38;5;34m32,896\u001B[0m │\n",
       "├─────────────────────────────────┼────────────────────────┼───────────────┤\n",
       "│ dropout_4 (\u001B[38;5;33mDropout\u001B[0m)             │ (\u001B[38;5;45mNone\u001B[0m, \u001B[38;5;34m128\u001B[0m)            │             \u001B[38;5;34m0\u001B[0m │\n",
       "├─────────────────────────────────┼────────────────────────┼───────────────┤\n",
       "│ dense_5 (\u001B[38;5;33mDense\u001B[0m)                 │ (\u001B[38;5;45mNone\u001B[0m, \u001B[38;5;34m2\u001B[0m)              │           \u001B[38;5;34m258\u001B[0m │\n",
       "└─────────────────────────────────┴────────────────────────┴───────────────┘\n"
      ],
      "text/html": [
       "<pre style=\"white-space:pre;overflow-x:auto;line-height:normal;font-family:Menlo,'DejaVu Sans Mono',consolas,'Courier New',monospace\">┏━━━━━━━━━━━━━━━━━━━━━━━━━━━━━━━━━┳━━━━━━━━━━━━━━━━━━━━━━━━┳━━━━━━━━━━━━━━━┓\n",
       "┃<span style=\"font-weight: bold\"> Layer (type)                    </span>┃<span style=\"font-weight: bold\"> Output Shape           </span>┃<span style=\"font-weight: bold\">       Param # </span>┃\n",
       "┡━━━━━━━━━━━━━━━━━━━━━━━━━━━━━━━━━╇━━━━━━━━━━━━━━━━━━━━━━━━╇━━━━━━━━━━━━━━━┩\n",
       "│ input_layer (<span style=\"color: #0087ff; text-decoration-color: #0087ff\">InputLayer</span>)        │ (<span style=\"color: #00d7ff; text-decoration-color: #00d7ff\">None</span>, <span style=\"color: #00af00; text-decoration-color: #00af00\">3584</span>)           │             <span style=\"color: #00af00; text-decoration-color: #00af00\">0</span> │\n",
       "├─────────────────────────────────┼────────────────────────┼───────────────┤\n",
       "│ batch_normalization_1           │ (<span style=\"color: #00d7ff; text-decoration-color: #00d7ff\">None</span>, <span style=\"color: #00af00; text-decoration-color: #00af00\">3584</span>)           │        <span style=\"color: #00af00; text-decoration-color: #00af00\">14,336</span> │\n",
       "│ (<span style=\"color: #0087ff; text-decoration-color: #0087ff\">BatchNormalization</span>)            │                        │               │\n",
       "├─────────────────────────────────┼────────────────────────┼───────────────┤\n",
       "│ dense_1 (<span style=\"color: #0087ff; text-decoration-color: #0087ff\">Dense</span>)                 │ (<span style=\"color: #00d7ff; text-decoration-color: #00d7ff\">None</span>, <span style=\"color: #00af00; text-decoration-color: #00af00\">1024</span>)           │     <span style=\"color: #00af00; text-decoration-color: #00af00\">3,671,040</span> │\n",
       "├─────────────────────────────────┼────────────────────────┼───────────────┤\n",
       "│ dropout_1 (<span style=\"color: #0087ff; text-decoration-color: #0087ff\">Dropout</span>)             │ (<span style=\"color: #00d7ff; text-decoration-color: #00d7ff\">None</span>, <span style=\"color: #00af00; text-decoration-color: #00af00\">1024</span>)           │             <span style=\"color: #00af00; text-decoration-color: #00af00\">0</span> │\n",
       "├─────────────────────────────────┼────────────────────────┼───────────────┤\n",
       "│ batch_normalization_2           │ (<span style=\"color: #00d7ff; text-decoration-color: #00d7ff\">None</span>, <span style=\"color: #00af00; text-decoration-color: #00af00\">1024</span>)           │         <span style=\"color: #00af00; text-decoration-color: #00af00\">4,096</span> │\n",
       "│ (<span style=\"color: #0087ff; text-decoration-color: #0087ff\">BatchNormalization</span>)            │                        │               │\n",
       "├─────────────────────────────────┼────────────────────────┼───────────────┤\n",
       "│ dense_2 (<span style=\"color: #0087ff; text-decoration-color: #0087ff\">Dense</span>)                 │ (<span style=\"color: #00d7ff; text-decoration-color: #00d7ff\">None</span>, <span style=\"color: #00af00; text-decoration-color: #00af00\">512</span>)            │       <span style=\"color: #00af00; text-decoration-color: #00af00\">524,800</span> │\n",
       "├─────────────────────────────────┼────────────────────────┼───────────────┤\n",
       "│ dropout_2 (<span style=\"color: #0087ff; text-decoration-color: #0087ff\">Dropout</span>)             │ (<span style=\"color: #00d7ff; text-decoration-color: #00d7ff\">None</span>, <span style=\"color: #00af00; text-decoration-color: #00af00\">512</span>)            │             <span style=\"color: #00af00; text-decoration-color: #00af00\">0</span> │\n",
       "├─────────────────────────────────┼────────────────────────┼───────────────┤\n",
       "│ batch_normalization_3           │ (<span style=\"color: #00d7ff; text-decoration-color: #00d7ff\">None</span>, <span style=\"color: #00af00; text-decoration-color: #00af00\">512</span>)            │         <span style=\"color: #00af00; text-decoration-color: #00af00\">2,048</span> │\n",
       "│ (<span style=\"color: #0087ff; text-decoration-color: #0087ff\">BatchNormalization</span>)            │                        │               │\n",
       "├─────────────────────────────────┼────────────────────────┼───────────────┤\n",
       "│ dense_3 (<span style=\"color: #0087ff; text-decoration-color: #0087ff\">Dense</span>)                 │ (<span style=\"color: #00d7ff; text-decoration-color: #00d7ff\">None</span>, <span style=\"color: #00af00; text-decoration-color: #00af00\">256</span>)            │       <span style=\"color: #00af00; text-decoration-color: #00af00\">131,328</span> │\n",
       "├─────────────────────────────────┼────────────────────────┼───────────────┤\n",
       "│ dropout_3 (<span style=\"color: #0087ff; text-decoration-color: #0087ff\">Dropout</span>)             │ (<span style=\"color: #00d7ff; text-decoration-color: #00d7ff\">None</span>, <span style=\"color: #00af00; text-decoration-color: #00af00\">256</span>)            │             <span style=\"color: #00af00; text-decoration-color: #00af00\">0</span> │\n",
       "├─────────────────────────────────┼────────────────────────┼───────────────┤\n",
       "│ batch_normalization_4           │ (<span style=\"color: #00d7ff; text-decoration-color: #00d7ff\">None</span>, <span style=\"color: #00af00; text-decoration-color: #00af00\">256</span>)            │         <span style=\"color: #00af00; text-decoration-color: #00af00\">1,024</span> │\n",
       "│ (<span style=\"color: #0087ff; text-decoration-color: #0087ff\">BatchNormalization</span>)            │                        │               │\n",
       "├─────────────────────────────────┼────────────────────────┼───────────────┤\n",
       "│ dense_4 (<span style=\"color: #0087ff; text-decoration-color: #0087ff\">Dense</span>)                 │ (<span style=\"color: #00d7ff; text-decoration-color: #00d7ff\">None</span>, <span style=\"color: #00af00; text-decoration-color: #00af00\">128</span>)            │        <span style=\"color: #00af00; text-decoration-color: #00af00\">32,896</span> │\n",
       "├─────────────────────────────────┼────────────────────────┼───────────────┤\n",
       "│ dropout_4 (<span style=\"color: #0087ff; text-decoration-color: #0087ff\">Dropout</span>)             │ (<span style=\"color: #00d7ff; text-decoration-color: #00d7ff\">None</span>, <span style=\"color: #00af00; text-decoration-color: #00af00\">128</span>)            │             <span style=\"color: #00af00; text-decoration-color: #00af00\">0</span> │\n",
       "├─────────────────────────────────┼────────────────────────┼───────────────┤\n",
       "│ dense_5 (<span style=\"color: #0087ff; text-decoration-color: #0087ff\">Dense</span>)                 │ (<span style=\"color: #00d7ff; text-decoration-color: #00d7ff\">None</span>, <span style=\"color: #00af00; text-decoration-color: #00af00\">2</span>)              │           <span style=\"color: #00af00; text-decoration-color: #00af00\">258</span> │\n",
       "└─────────────────────────────────┴────────────────────────┴───────────────┘\n",
       "</pre>\n"
      ]
     },
     "metadata": {},
     "output_type": "display_data"
    },
    {
     "data": {
      "text/plain": [
       "\u001B[1m Total params: \u001B[0m\u001B[38;5;34m4,381,826\u001B[0m (16.72 MB)\n"
      ],
      "text/html": [
       "<pre style=\"white-space:pre;overflow-x:auto;line-height:normal;font-family:Menlo,'DejaVu Sans Mono',consolas,'Courier New',monospace\"><span style=\"font-weight: bold\"> Total params: </span><span style=\"color: #00af00; text-decoration-color: #00af00\">4,381,826</span> (16.72 MB)\n",
       "</pre>\n"
      ]
     },
     "metadata": {},
     "output_type": "display_data"
    },
    {
     "data": {
      "text/plain": [
       "\u001B[1m Trainable params: \u001B[0m\u001B[38;5;34m4,371,074\u001B[0m (16.67 MB)\n"
      ],
      "text/html": [
       "<pre style=\"white-space:pre;overflow-x:auto;line-height:normal;font-family:Menlo,'DejaVu Sans Mono',consolas,'Courier New',monospace\"><span style=\"font-weight: bold\"> Trainable params: </span><span style=\"color: #00af00; text-decoration-color: #00af00\">4,371,074</span> (16.67 MB)\n",
       "</pre>\n"
      ]
     },
     "metadata": {},
     "output_type": "display_data"
    },
    {
     "data": {
      "text/plain": [
       "\u001B[1m Non-trainable params: \u001B[0m\u001B[38;5;34m10,752\u001B[0m (42.00 KB)\n"
      ],
      "text/html": [
       "<pre style=\"white-space:pre;overflow-x:auto;line-height:normal;font-family:Menlo,'DejaVu Sans Mono',consolas,'Courier New',monospace\"><span style=\"font-weight: bold\"> Non-trainable params: </span><span style=\"color: #00af00; text-decoration-color: #00af00\">10,752</span> (42.00 KB)\n",
       "</pre>\n"
      ]
     },
     "metadata": {},
     "output_type": "display_data"
    }
   ],
   "execution_count": 4
  },
  {
   "metadata": {
    "ExecuteTime": {
     "end_time": "2025-05-12T16:57:01.774556Z",
     "start_time": "2025-05-12T16:52:44.530298Z"
    }
   },
   "cell_type": "code",
   "source": [
    "import tensorflow as tf\n",
    "with tf.device('/gpu:0'):\n",
    "    lr_scheduler = LearningRateScheduler(lambda epoch: 0.0001 * (0.9 ** epoch))\n",
    "    early_stopping = EarlyStopping(patience=2, monitor='loss', retrieve_best_weights=True)\n",
    "    model.fit(dataset.train.features, dataset.train.labels, validation_data=(dataset.test.features, dataset.test.labels),\n",
    " epochs=20, batch_size=64, callbacks=[lr_scheduler, early_stopping], verbose=2)"
   ],
   "id": "4ac11de27db44b3b",
   "outputs": [
    {
     "name": "stdout",
     "output_type": "stream",
     "text": [
      "Epoch 1/20\n"
     ]
    },
    {
     "name": "stderr",
     "output_type": "stream",
     "text": [
      "2025-05-12 19:52:45.315001: I tensorflow/core/grappler/optimizers/custom_graph_optimizer_registry.cc:117] Plugin optimizer for device_type GPU is enabled.\n"
     ]
    },
    {
     "name": "stdout",
     "output_type": "stream",
     "text": [
      "521/521 - 16s - 31ms/step - accuracy: 0.5118 - loss: 0.7741 - val_accuracy: 0.5246 - val_loss: 0.6940 - learning_rate: 1.0000e-04\n",
      "Epoch 2/20\n",
      "521/521 - 14s - 26ms/step - accuracy: 0.5119 - loss: 0.7268 - val_accuracy: 0.5162 - val_loss: 0.6979 - learning_rate: 9.0000e-05\n",
      "Epoch 3/20\n",
      "521/521 - 14s - 26ms/step - accuracy: 0.5201 - loss: 0.7125 - val_accuracy: 0.5197 - val_loss: 0.7037 - learning_rate: 8.1000e-05\n",
      "Epoch 4/20\n",
      "521/521 - 14s - 27ms/step - accuracy: 0.5203 - loss: 0.7083 - val_accuracy: 0.5151 - val_loss: 0.6959 - learning_rate: 7.2900e-05\n",
      "Epoch 5/20\n",
      "521/521 - 14s - 26ms/step - accuracy: 0.5240 - loss: 0.7029 - val_accuracy: 0.5173 - val_loss: 0.6935 - learning_rate: 6.5610e-05\n",
      "Epoch 6/20\n",
      "521/521 - 13s - 26ms/step - accuracy: 0.5222 - loss: 0.7020 - val_accuracy: 0.5208 - val_loss: 0.6922 - learning_rate: 5.9049e-05\n",
      "Epoch 7/20\n",
      "521/521 - 13s - 25ms/step - accuracy: 0.5300 - loss: 0.6980 - val_accuracy: 0.5200 - val_loss: 0.6967 - learning_rate: 5.3144e-05\n",
      "Epoch 8/20\n",
      "521/521 - 13s - 25ms/step - accuracy: 0.5293 - loss: 0.6990 - val_accuracy: 0.5154 - val_loss: 0.6972 - learning_rate: 4.7830e-05\n",
      "Epoch 9/20\n",
      "521/521 - 13s - 25ms/step - accuracy: 0.5340 - loss: 0.6960 - val_accuracy: 0.5165 - val_loss: 0.6928 - learning_rate: 4.3047e-05\n",
      "Epoch 10/20\n",
      "521/521 - 13s - 25ms/step - accuracy: 0.5278 - loss: 0.6968 - val_accuracy: 0.5119 - val_loss: 0.6947 - learning_rate: 3.8742e-05\n",
      "Epoch 11/20\n",
      "521/521 - 13s - 25ms/step - accuracy: 0.5314 - loss: 0.6952 - val_accuracy: 0.5159 - val_loss: 0.6928 - learning_rate: 3.4868e-05\n",
      "Epoch 12/20\n",
      "521/521 - 13s - 25ms/step - accuracy: 0.5346 - loss: 0.6940 - val_accuracy: 0.5159 - val_loss: 0.6928 - learning_rate: 3.1381e-05\n",
      "Epoch 13/20\n",
      "521/521 - 13s - 26ms/step - accuracy: 0.5322 - loss: 0.6942 - val_accuracy: 0.5130 - val_loss: 0.6942 - learning_rate: 2.8243e-05\n",
      "Epoch 14/20\n",
      "521/521 - 13s - 25ms/step - accuracy: 0.5365 - loss: 0.6931 - val_accuracy: 0.5132 - val_loss: 0.6934 - learning_rate: 2.5419e-05\n",
      "Epoch 15/20\n",
      "521/521 - 13s - 26ms/step - accuracy: 0.5379 - loss: 0.6910 - val_accuracy: 0.5219 - val_loss: 0.6923 - learning_rate: 2.2877e-05\n",
      "Epoch 16/20\n",
      "521/521 - 13s - 26ms/step - accuracy: 0.5374 - loss: 0.6906 - val_accuracy: 0.5227 - val_loss: 0.6917 - learning_rate: 2.0589e-05\n",
      "Epoch 17/20\n",
      "521/521 - 13s - 26ms/step - accuracy: 0.5374 - loss: 0.6892 - val_accuracy: 0.5205 - val_loss: 0.6932 - learning_rate: 1.8530e-05\n",
      "Epoch 18/20\n",
      "521/521 - 13s - 26ms/step - accuracy: 0.5366 - loss: 0.6914 - val_accuracy: 0.5224 - val_loss: 0.6936 - learning_rate: 1.6677e-05\n",
      "Epoch 19/20\n",
      "521/521 - 13s - 26ms/step - accuracy: 0.5400 - loss: 0.6907 - val_accuracy: 0.5254 - val_loss: 0.6931 - learning_rate: 1.5009e-05\n"
     ]
    }
   ],
   "execution_count": 5
  },
  {
   "metadata": {
    "ExecuteTime": {
     "end_time": "2025-05-12T16:57:02.219519Z",
     "start_time": "2025-05-12T16:57:01.798678Z"
    }
   },
   "cell_type": "code",
   "source": "evaluate(model, dataset.test.features, dataset.test.labels)",
   "id": "42893e7d44b6c537",
   "outputs": [
    {
     "name": "stdout",
     "output_type": "stream",
     "text": [
      "\u001B[1m116/116\u001B[0m \u001B[32m━━━━━━━━━━━━━━━━━━━━\u001B[0m\u001B[37m\u001B[0m \u001B[1m0s\u001B[0m 2ms/step\n",
      "## Accuracy: 0.5254054054054054\n",
      "\n",
      "## F1 Score: 0.5156159651403336\n",
      "\n",
      "\n",
      "None\n"
     ]
    }
   ],
   "execution_count": 6
  },
  {
   "metadata": {},
   "cell_type": "markdown",
   "source": "## LSTM",
   "id": "c91feb7f4407f750"
  },
  {
   "metadata": {
    "ExecuteTime": {
     "end_time": "2025-05-12T16:57:02.315904Z",
     "start_time": "2025-05-12T16:57:02.222978Z"
    }
   },
   "cell_type": "code",
   "source": [
    "from keras.api.layers import LSTM, RepeatVector\n",
    "\n",
    "try:\n",
    "    del lstm\n",
    "except:\n",
    "    pass\n",
    "# Define input shape with sequential data\n",
    "# 512 is the shape of the clip embedding that is why I'm choosing that\n",
    "inputs = Input(shape=(1, dataset.train.features.shape[1]))  # Add timesteps dimension\n",
    "\n",
    "# LSTM Embedding Layer\n",
    "x = LSTM(units=128, return_sequences=False)(inputs)  # Return the final state output as embedding\n",
    "\n",
    "# Optionally add dense layers after LSTM for better feature processing\n",
    "x = Dense(units=128, activation='leaky_relu')(x)\n",
    "\n",
    "x = Dense(units=64, activation='leaky_relu')(x)\n",
    "# Define the output layer for classification\n",
    "outputs = Dense(units=2, activation='softmax')(x)\n",
    "\n",
    "# Create the model\n",
    "lstm = Model(inputs=inputs, outputs=outputs)\n",
    "\n",
    "# Compile the model\n",
    "lstm.compile(optimizer='adam',\n",
    "              loss='categorical_crossentropy',\n",
    "              metrics=['accuracy'])\n",
    "\n",
    "# Print summary\n",
    "lstm.summary()\n"
   ],
   "id": "8b51b8a59c47e539",
   "outputs": [
    {
     "data": {
      "text/plain": [
       "\u001B[1mModel: \"functional_1\"\u001B[0m\n"
      ],
      "text/html": [
       "<pre style=\"white-space:pre;overflow-x:auto;line-height:normal;font-family:Menlo,'DejaVu Sans Mono',consolas,'Courier New',monospace\"><span style=\"font-weight: bold\">Model: \"functional_1\"</span>\n",
       "</pre>\n"
      ]
     },
     "metadata": {},
     "output_type": "display_data"
    },
    {
     "data": {
      "text/plain": [
       "┏━━━━━━━━━━━━━━━━━━━━━━━━━━━━━━━━━┳━━━━━━━━━━━━━━━━━━━━━━━━┳━━━━━━━━━━━━━━━┓\n",
       "┃\u001B[1m \u001B[0m\u001B[1mLayer (type)                   \u001B[0m\u001B[1m \u001B[0m┃\u001B[1m \u001B[0m\u001B[1mOutput Shape          \u001B[0m\u001B[1m \u001B[0m┃\u001B[1m \u001B[0m\u001B[1m      Param #\u001B[0m\u001B[1m \u001B[0m┃\n",
       "┡━━━━━━━━━━━━━━━━━━━━━━━━━━━━━━━━━╇━━━━━━━━━━━━━━━━━━━━━━━━╇━━━━━━━━━━━━━━━┩\n",
       "│ input_layer_1 (\u001B[38;5;33mInputLayer\u001B[0m)      │ (\u001B[38;5;45mNone\u001B[0m, \u001B[38;5;34m1\u001B[0m, \u001B[38;5;34m3584\u001B[0m)        │             \u001B[38;5;34m0\u001B[0m │\n",
       "├─────────────────────────────────┼────────────────────────┼───────────────┤\n",
       "│ lstm (\u001B[38;5;33mLSTM\u001B[0m)                     │ (\u001B[38;5;45mNone\u001B[0m, \u001B[38;5;34m128\u001B[0m)            │     \u001B[38;5;34m1,901,056\u001B[0m │\n",
       "├─────────────────────────────────┼────────────────────────┼───────────────┤\n",
       "│ dense_6 (\u001B[38;5;33mDense\u001B[0m)                 │ (\u001B[38;5;45mNone\u001B[0m, \u001B[38;5;34m128\u001B[0m)            │        \u001B[38;5;34m16,512\u001B[0m │\n",
       "├─────────────────────────────────┼────────────────────────┼───────────────┤\n",
       "│ dense_7 (\u001B[38;5;33mDense\u001B[0m)                 │ (\u001B[38;5;45mNone\u001B[0m, \u001B[38;5;34m64\u001B[0m)             │         \u001B[38;5;34m8,256\u001B[0m │\n",
       "├─────────────────────────────────┼────────────────────────┼───────────────┤\n",
       "│ dense_8 (\u001B[38;5;33mDense\u001B[0m)                 │ (\u001B[38;5;45mNone\u001B[0m, \u001B[38;5;34m2\u001B[0m)              │           \u001B[38;5;34m130\u001B[0m │\n",
       "└─────────────────────────────────┴────────────────────────┴───────────────┘\n"
      ],
      "text/html": [
       "<pre style=\"white-space:pre;overflow-x:auto;line-height:normal;font-family:Menlo,'DejaVu Sans Mono',consolas,'Courier New',monospace\">┏━━━━━━━━━━━━━━━━━━━━━━━━━━━━━━━━━┳━━━━━━━━━━━━━━━━━━━━━━━━┳━━━━━━━━━━━━━━━┓\n",
       "┃<span style=\"font-weight: bold\"> Layer (type)                    </span>┃<span style=\"font-weight: bold\"> Output Shape           </span>┃<span style=\"font-weight: bold\">       Param # </span>┃\n",
       "┡━━━━━━━━━━━━━━━━━━━━━━━━━━━━━━━━━╇━━━━━━━━━━━━━━━━━━━━━━━━╇━━━━━━━━━━━━━━━┩\n",
       "│ input_layer_1 (<span style=\"color: #0087ff; text-decoration-color: #0087ff\">InputLayer</span>)      │ (<span style=\"color: #00d7ff; text-decoration-color: #00d7ff\">None</span>, <span style=\"color: #00af00; text-decoration-color: #00af00\">1</span>, <span style=\"color: #00af00; text-decoration-color: #00af00\">3584</span>)        │             <span style=\"color: #00af00; text-decoration-color: #00af00\">0</span> │\n",
       "├─────────────────────────────────┼────────────────────────┼───────────────┤\n",
       "│ lstm (<span style=\"color: #0087ff; text-decoration-color: #0087ff\">LSTM</span>)                     │ (<span style=\"color: #00d7ff; text-decoration-color: #00d7ff\">None</span>, <span style=\"color: #00af00; text-decoration-color: #00af00\">128</span>)            │     <span style=\"color: #00af00; text-decoration-color: #00af00\">1,901,056</span> │\n",
       "├─────────────────────────────────┼────────────────────────┼───────────────┤\n",
       "│ dense_6 (<span style=\"color: #0087ff; text-decoration-color: #0087ff\">Dense</span>)                 │ (<span style=\"color: #00d7ff; text-decoration-color: #00d7ff\">None</span>, <span style=\"color: #00af00; text-decoration-color: #00af00\">128</span>)            │        <span style=\"color: #00af00; text-decoration-color: #00af00\">16,512</span> │\n",
       "├─────────────────────────────────┼────────────────────────┼───────────────┤\n",
       "│ dense_7 (<span style=\"color: #0087ff; text-decoration-color: #0087ff\">Dense</span>)                 │ (<span style=\"color: #00d7ff; text-decoration-color: #00d7ff\">None</span>, <span style=\"color: #00af00; text-decoration-color: #00af00\">64</span>)             │         <span style=\"color: #00af00; text-decoration-color: #00af00\">8,256</span> │\n",
       "├─────────────────────────────────┼────────────────────────┼───────────────┤\n",
       "│ dense_8 (<span style=\"color: #0087ff; text-decoration-color: #0087ff\">Dense</span>)                 │ (<span style=\"color: #00d7ff; text-decoration-color: #00d7ff\">None</span>, <span style=\"color: #00af00; text-decoration-color: #00af00\">2</span>)              │           <span style=\"color: #00af00; text-decoration-color: #00af00\">130</span> │\n",
       "└─────────────────────────────────┴────────────────────────┴───────────────┘\n",
       "</pre>\n"
      ]
     },
     "metadata": {},
     "output_type": "display_data"
    },
    {
     "data": {
      "text/plain": [
       "\u001B[1m Total params: \u001B[0m\u001B[38;5;34m1,925,954\u001B[0m (7.35 MB)\n"
      ],
      "text/html": [
       "<pre style=\"white-space:pre;overflow-x:auto;line-height:normal;font-family:Menlo,'DejaVu Sans Mono',consolas,'Courier New',monospace\"><span style=\"font-weight: bold\"> Total params: </span><span style=\"color: #00af00; text-decoration-color: #00af00\">1,925,954</span> (7.35 MB)\n",
       "</pre>\n"
      ]
     },
     "metadata": {},
     "output_type": "display_data"
    },
    {
     "data": {
      "text/plain": [
       "\u001B[1m Trainable params: \u001B[0m\u001B[38;5;34m1,925,954\u001B[0m (7.35 MB)\n"
      ],
      "text/html": [
       "<pre style=\"white-space:pre;overflow-x:auto;line-height:normal;font-family:Menlo,'DejaVu Sans Mono',consolas,'Courier New',monospace\"><span style=\"font-weight: bold\"> Trainable params: </span><span style=\"color: #00af00; text-decoration-color: #00af00\">1,925,954</span> (7.35 MB)\n",
       "</pre>\n"
      ]
     },
     "metadata": {},
     "output_type": "display_data"
    },
    {
     "data": {
      "text/plain": [
       "\u001B[1m Non-trainable params: \u001B[0m\u001B[38;5;34m0\u001B[0m (0.00 B)\n"
      ],
      "text/html": [
       "<pre style=\"white-space:pre;overflow-x:auto;line-height:normal;font-family:Menlo,'DejaVu Sans Mono',consolas,'Courier New',monospace\"><span style=\"font-weight: bold\"> Non-trainable params: </span><span style=\"color: #00af00; text-decoration-color: #00af00\">0</span> (0.00 B)\n",
       "</pre>\n"
      ]
     },
     "metadata": {},
     "output_type": "display_data"
    }
   ],
   "execution_count": 7
  },
  {
   "metadata": {
    "ExecuteTime": {
     "end_time": "2025-05-12T17:00:53.672898Z",
     "start_time": "2025-05-12T16:58:12.884068Z"
    }
   },
   "cell_type": "code",
   "source": [
    "import tensorflow as tf\n",
    "from keras.api.callbacks import LearningRateScheduler, EarlyStopping, Callback\n",
    "\n",
    "\n",
    "X_train_reshaped = dataset.train.features.reshape(-1, 1, dataset.train.features.shape[1])\n",
    "X_test_reshaped  = dataset.test.features.reshape(-1, 1, dataset.test.features.shape[1])\n",
    "\n",
    "\n",
    "# Assuming dataset.train.features and dataset.train.labels are re-shaped correctly\n",
    "with tf.device('/gpu:0'):\n",
    "    lr_scheduler = LearningRateScheduler(lambda epoch: 0.0001 * (0.9 ** epoch))\n",
    "    early_stopping = EarlyStopping(patience=2, monitor='loss', restore_best_weights=True)\n",
    "    lstm.fit(X_train_reshaped, dataset.train.labels,\n",
    "              validation_data=(X_test_reshaped, dataset.test.labels),\n",
    "              epochs=50, batch_size=64,\n",
    "                callbacks=[lr_scheduler, early_stopping],\n",
    "              verbose=2)\n",
    "\n"
   ],
   "id": "bb1dc818debb6128",
   "outputs": [
    {
     "name": "stdout",
     "output_type": "stream",
     "text": [
      "Epoch 1/20\n",
      "521/521 - 8s - 16ms/step - accuracy: 0.5345 - loss: 0.6881 - val_accuracy: 0.5219 - val_loss: 0.6906 - learning_rate: 1.0000e-04\n",
      "Epoch 2/20\n",
      "521/521 - 8s - 15ms/step - accuracy: 0.5381 - loss: 0.6873 - val_accuracy: 0.5184 - val_loss: 0.6918 - learning_rate: 9.0000e-05\n",
      "Epoch 3/20\n",
      "521/521 - 8s - 15ms/step - accuracy: 0.5371 - loss: 0.6866 - val_accuracy: 0.5249 - val_loss: 0.6924 - learning_rate: 8.1000e-05\n",
      "Epoch 4/20\n",
      "521/521 - 8s - 15ms/step - accuracy: 0.5384 - loss: 0.6868 - val_accuracy: 0.5200 - val_loss: 0.6928 - learning_rate: 7.2900e-05\n",
      "Epoch 5/20\n",
      "521/521 - 8s - 15ms/step - accuracy: 0.5362 - loss: 0.6863 - val_accuracy: 0.5241 - val_loss: 0.6902 - learning_rate: 6.5610e-05\n",
      "Epoch 6/20\n",
      "521/521 - 8s - 15ms/step - accuracy: 0.5384 - loss: 0.6861 - val_accuracy: 0.5208 - val_loss: 0.6903 - learning_rate: 5.9049e-05\n",
      "Epoch 7/20\n",
      "521/521 - 8s - 15ms/step - accuracy: 0.5423 - loss: 0.6858 - val_accuracy: 0.5232 - val_loss: 0.6916 - learning_rate: 5.3144e-05\n",
      "Epoch 8/20\n",
      "521/521 - 8s - 15ms/step - accuracy: 0.5431 - loss: 0.6856 - val_accuracy: 0.5262 - val_loss: 0.6911 - learning_rate: 4.7830e-05\n",
      "Epoch 9/20\n",
      "521/521 - 8s - 15ms/step - accuracy: 0.5412 - loss: 0.6852 - val_accuracy: 0.5254 - val_loss: 0.6907 - learning_rate: 4.3047e-05\n",
      "Epoch 10/20\n",
      "521/521 - 8s - 15ms/step - accuracy: 0.5414 - loss: 0.6856 - val_accuracy: 0.5238 - val_loss: 0.6904 - learning_rate: 3.8742e-05\n",
      "Epoch 11/20\n",
      "521/521 - 8s - 15ms/step - accuracy: 0.5418 - loss: 0.6851 - val_accuracy: 0.5259 - val_loss: 0.6908 - learning_rate: 3.4868e-05\n",
      "Epoch 12/20\n",
      "521/521 - 8s - 15ms/step - accuracy: 0.5429 - loss: 0.6850 - val_accuracy: 0.5251 - val_loss: 0.6906 - learning_rate: 3.1381e-05\n",
      "Epoch 13/20\n",
      "521/521 - 8s - 15ms/step - accuracy: 0.5438 - loss: 0.6848 - val_accuracy: 0.5251 - val_loss: 0.6906 - learning_rate: 2.8243e-05\n",
      "Epoch 14/20\n",
      "521/521 - 8s - 15ms/step - accuracy: 0.5456 - loss: 0.6846 - val_accuracy: 0.5216 - val_loss: 0.6908 - learning_rate: 2.5419e-05\n",
      "Epoch 15/20\n",
      "521/521 - 8s - 15ms/step - accuracy: 0.5459 - loss: 0.6845 - val_accuracy: 0.5246 - val_loss: 0.6907 - learning_rate: 2.2877e-05\n",
      "Epoch 16/20\n",
      "521/521 - 8s - 16ms/step - accuracy: 0.5473 - loss: 0.6843 - val_accuracy: 0.5246 - val_loss: 0.6910 - learning_rate: 2.0589e-05\n",
      "Epoch 17/20\n",
      "521/521 - 8s - 16ms/step - accuracy: 0.5456 - loss: 0.6842 - val_accuracy: 0.5235 - val_loss: 0.6907 - learning_rate: 1.8530e-05\n",
      "Epoch 18/20\n",
      "521/521 - 9s - 17ms/step - accuracy: 0.5450 - loss: 0.6841 - val_accuracy: 0.5238 - val_loss: 0.6911 - learning_rate: 1.6677e-05\n",
      "Epoch 19/20\n",
      "521/521 - 8s - 16ms/step - accuracy: 0.5470 - loss: 0.6839 - val_accuracy: 0.5222 - val_loss: 0.6912 - learning_rate: 1.5009e-05\n",
      "Epoch 20/20\n",
      "521/521 - 8s - 16ms/step - accuracy: 0.5471 - loss: 0.6838 - val_accuracy: 0.5259 - val_loss: 0.6909 - learning_rate: 1.3509e-05\n"
     ]
    }
   ],
   "execution_count": 9
  },
  {
   "metadata": {
    "ExecuteTime": {
     "end_time": "2025-05-12T17:00:54.029504Z",
     "start_time": "2025-05-12T17:00:53.686634Z"
    }
   },
   "cell_type": "code",
   "source": "evaluate(lstm, X_test_reshaped, dataset.test.labels)",
   "id": "b44b95b6695b95da",
   "outputs": [
    {
     "name": "stdout",
     "output_type": "stream",
     "text": [
      "\u001B[1m116/116\u001B[0m \u001B[32m━━━━━━━━━━━━━━━━━━━━\u001B[0m\u001B[37m\u001B[0m \u001B[1m0s\u001B[0m 2ms/step\n",
      "## Accuracy: 0.5259459459459459\n",
      "\n",
      "## F1 Score: 0.517483401363579\n",
      "\n",
      "\n"
     ]
    }
   ],
   "execution_count": 10
  },
  {
   "metadata": {
    "ExecuteTime": {
     "end_time": "2025-05-12T17:02:43.181768Z",
     "start_time": "2025-05-12T17:02:43.179408Z"
    }
   },
   "cell_type": "code",
   "source": "dataset.train.features.shape",
   "id": "f7dd34d16b4fbf88",
   "outputs": [
    {
     "data": {
      "text/plain": [
       "(33300, 3584)"
      ]
     },
     "execution_count": 11,
     "metadata": {},
     "output_type": "execute_result"
    }
   ],
   "execution_count": 11
  },
  {
   "metadata": {},
   "cell_type": "markdown",
   "source": "# With Embedding | No Cloud | With Triangulation Dataset",
   "id": "f4e2dc693e5f713f"
  },
  {
   "metadata": {
    "ExecuteTime": {
     "end_time": "2025-05-11T17:48:39.789886Z",
     "start_time": "2025-05-11T17:48:39.654669Z"
    }
   },
   "cell_type": "code",
   "source": [
    "with open(\"/Users/eden.yavin/Projects/Tabular-Cloud-ML/store/dataset_wo_cl_w_em.pkl\", \"rb\") as f:\n",
    "    dataset = pickle.load(f)"
   ],
   "id": "7704abd5cda62a7",
   "outputs": [],
   "execution_count": 93
  },
  {
   "metadata": {},
   "cell_type": "markdown",
   "source": "## Dense IIM\n",
   "id": "aba162bf7ffa8ff8"
  },
  {
   "metadata": {
    "ExecuteTime": {
     "end_time": "2025-05-11T17:48:39.876821Z",
     "start_time": "2025-05-11T17:48:39.797017Z"
    }
   },
   "cell_type": "code",
   "source": [
    "try:\n",
    "    del model\n",
    "except:\n",
    "    pass\n",
    "\n",
    "inputs = Input(shape=(dataset.train.features.shape[1],))  # Dynamic input shape\n",
    "\n",
    "x = BatchNormalization()(inputs)\n",
    "x = Dense(units=2048, activation='leaky_relu')(x)\n",
    "x = Dropout(0.1)(x)\n",
    "\n",
    "x = BatchNormalization()(inputs)\n",
    "x = Dense(units=1024, activation='leaky_relu')(x)\n",
    "x = Dropout(0.1)(x)\n",
    "\n",
    "x = BatchNormalization()(x)\n",
    "x = Dense(units=512, activation='leaky_relu')(x)\n",
    "x = Dropout(0.1)(x)\n",
    "\n",
    "x = BatchNormalization()(x)\n",
    "x = Dense(units=256, activation='leaky_relu')(x)\n",
    "x = Dropout(0.1)(x)\n",
    "\n",
    "x = BatchNormalization()(x)\n",
    "x = Dense(units=128, activation='leaky_relu')(x)\n",
    "x = Dropout(0.1)(x)\n",
    "\n",
    "# Define the output layer\n",
    "outputs = Dense(units=2, activation='softmax')(x)\n",
    "\n",
    "# Create the model\n",
    "model = Model(inputs=inputs, outputs=outputs)\n",
    "\n",
    "# Compile the model with F1 Score\n",
    "model.compile(optimizer='adam',\n",
    "              loss='categorical_crossentropy',\n",
    "              metrics=['accuracy']\n",
    "              )\n",
    "model.summary()"
   ],
   "id": "a5345e90cb20400a",
   "outputs": [
    {
     "data": {
      "text/plain": [
       "\u001B[1mModel: \"functional_15\"\u001B[0m\n"
      ],
      "text/html": [
       "<pre style=\"white-space:pre;overflow-x:auto;line-height:normal;font-family:Menlo,'DejaVu Sans Mono',consolas,'Courier New',monospace\"><span style=\"font-weight: bold\">Model: \"functional_15\"</span>\n",
       "</pre>\n"
      ]
     },
     "metadata": {},
     "output_type": "display_data"
    },
    {
     "data": {
      "text/plain": [
       "┏━━━━━━━━━━━━━━━━━━━━━━━━━━━━━━━━━┳━━━━━━━━━━━━━━━━━━━━━━━━┳━━━━━━━━━━━━━━━┓\n",
       "┃\u001B[1m \u001B[0m\u001B[1mLayer (type)                   \u001B[0m\u001B[1m \u001B[0m┃\u001B[1m \u001B[0m\u001B[1mOutput Shape          \u001B[0m\u001B[1m \u001B[0m┃\u001B[1m \u001B[0m\u001B[1m      Param #\u001B[0m\u001B[1m \u001B[0m┃\n",
       "┡━━━━━━━━━━━━━━━━━━━━━━━━━━━━━━━━━╇━━━━━━━━━━━━━━━━━━━━━━━━╇━━━━━━━━━━━━━━━┩\n",
       "│ input_layer_19 (\u001B[38;5;33mInputLayer\u001B[0m)     │ (\u001B[38;5;45mNone\u001B[0m, \u001B[38;5;34m3648\u001B[0m)           │             \u001B[38;5;34m0\u001B[0m │\n",
       "├─────────────────────────────────┼────────────────────────┼───────────────┤\n",
       "│ batch_normalization_32          │ (\u001B[38;5;45mNone\u001B[0m, \u001B[38;5;34m3648\u001B[0m)           │        \u001B[38;5;34m14,592\u001B[0m │\n",
       "│ (\u001B[38;5;33mBatchNormalization\u001B[0m)            │                        │               │\n",
       "├─────────────────────────────────┼────────────────────────┼───────────────┤\n",
       "│ dense_63 (\u001B[38;5;33mDense\u001B[0m)                │ (\u001B[38;5;45mNone\u001B[0m, \u001B[38;5;34m1024\u001B[0m)           │     \u001B[38;5;34m3,736,576\u001B[0m │\n",
       "├─────────────────────────────────┼────────────────────────┼───────────────┤\n",
       "│ dropout_44 (\u001B[38;5;33mDropout\u001B[0m)            │ (\u001B[38;5;45mNone\u001B[0m, \u001B[38;5;34m1024\u001B[0m)           │             \u001B[38;5;34m0\u001B[0m │\n",
       "├─────────────────────────────────┼────────────────────────┼───────────────┤\n",
       "│ batch_normalization_33          │ (\u001B[38;5;45mNone\u001B[0m, \u001B[38;5;34m1024\u001B[0m)           │         \u001B[38;5;34m4,096\u001B[0m │\n",
       "│ (\u001B[38;5;33mBatchNormalization\u001B[0m)            │                        │               │\n",
       "├─────────────────────────────────┼────────────────────────┼───────────────┤\n",
       "│ dense_64 (\u001B[38;5;33mDense\u001B[0m)                │ (\u001B[38;5;45mNone\u001B[0m, \u001B[38;5;34m512\u001B[0m)            │       \u001B[38;5;34m524,800\u001B[0m │\n",
       "├─────────────────────────────────┼────────────────────────┼───────────────┤\n",
       "│ dropout_45 (\u001B[38;5;33mDropout\u001B[0m)            │ (\u001B[38;5;45mNone\u001B[0m, \u001B[38;5;34m512\u001B[0m)            │             \u001B[38;5;34m0\u001B[0m │\n",
       "├─────────────────────────────────┼────────────────────────┼───────────────┤\n",
       "│ batch_normalization_34          │ (\u001B[38;5;45mNone\u001B[0m, \u001B[38;5;34m512\u001B[0m)            │         \u001B[38;5;34m2,048\u001B[0m │\n",
       "│ (\u001B[38;5;33mBatchNormalization\u001B[0m)            │                        │               │\n",
       "├─────────────────────────────────┼────────────────────────┼───────────────┤\n",
       "│ dense_65 (\u001B[38;5;33mDense\u001B[0m)                │ (\u001B[38;5;45mNone\u001B[0m, \u001B[38;5;34m256\u001B[0m)            │       \u001B[38;5;34m131,328\u001B[0m │\n",
       "├─────────────────────────────────┼────────────────────────┼───────────────┤\n",
       "│ dropout_46 (\u001B[38;5;33mDropout\u001B[0m)            │ (\u001B[38;5;45mNone\u001B[0m, \u001B[38;5;34m256\u001B[0m)            │             \u001B[38;5;34m0\u001B[0m │\n",
       "├─────────────────────────────────┼────────────────────────┼───────────────┤\n",
       "│ batch_normalization_35          │ (\u001B[38;5;45mNone\u001B[0m, \u001B[38;5;34m256\u001B[0m)            │         \u001B[38;5;34m1,024\u001B[0m │\n",
       "│ (\u001B[38;5;33mBatchNormalization\u001B[0m)            │                        │               │\n",
       "├─────────────────────────────────┼────────────────────────┼───────────────┤\n",
       "│ dense_66 (\u001B[38;5;33mDense\u001B[0m)                │ (\u001B[38;5;45mNone\u001B[0m, \u001B[38;5;34m128\u001B[0m)            │        \u001B[38;5;34m32,896\u001B[0m │\n",
       "├─────────────────────────────────┼────────────────────────┼───────────────┤\n",
       "│ dropout_47 (\u001B[38;5;33mDropout\u001B[0m)            │ (\u001B[38;5;45mNone\u001B[0m, \u001B[38;5;34m128\u001B[0m)            │             \u001B[38;5;34m0\u001B[0m │\n",
       "├─────────────────────────────────┼────────────────────────┼───────────────┤\n",
       "│ dense_67 (\u001B[38;5;33mDense\u001B[0m)                │ (\u001B[38;5;45mNone\u001B[0m, \u001B[38;5;34m2\u001B[0m)              │           \u001B[38;5;34m258\u001B[0m │\n",
       "└─────────────────────────────────┴────────────────────────┴───────────────┘\n"
      ],
      "text/html": [
       "<pre style=\"white-space:pre;overflow-x:auto;line-height:normal;font-family:Menlo,'DejaVu Sans Mono',consolas,'Courier New',monospace\">┏━━━━━━━━━━━━━━━━━━━━━━━━━━━━━━━━━┳━━━━━━━━━━━━━━━━━━━━━━━━┳━━━━━━━━━━━━━━━┓\n",
       "┃<span style=\"font-weight: bold\"> Layer (type)                    </span>┃<span style=\"font-weight: bold\"> Output Shape           </span>┃<span style=\"font-weight: bold\">       Param # </span>┃\n",
       "┡━━━━━━━━━━━━━━━━━━━━━━━━━━━━━━━━━╇━━━━━━━━━━━━━━━━━━━━━━━━╇━━━━━━━━━━━━━━━┩\n",
       "│ input_layer_19 (<span style=\"color: #0087ff; text-decoration-color: #0087ff\">InputLayer</span>)     │ (<span style=\"color: #00d7ff; text-decoration-color: #00d7ff\">None</span>, <span style=\"color: #00af00; text-decoration-color: #00af00\">3648</span>)           │             <span style=\"color: #00af00; text-decoration-color: #00af00\">0</span> │\n",
       "├─────────────────────────────────┼────────────────────────┼───────────────┤\n",
       "│ batch_normalization_32          │ (<span style=\"color: #00d7ff; text-decoration-color: #00d7ff\">None</span>, <span style=\"color: #00af00; text-decoration-color: #00af00\">3648</span>)           │        <span style=\"color: #00af00; text-decoration-color: #00af00\">14,592</span> │\n",
       "│ (<span style=\"color: #0087ff; text-decoration-color: #0087ff\">BatchNormalization</span>)            │                        │               │\n",
       "├─────────────────────────────────┼────────────────────────┼───────────────┤\n",
       "│ dense_63 (<span style=\"color: #0087ff; text-decoration-color: #0087ff\">Dense</span>)                │ (<span style=\"color: #00d7ff; text-decoration-color: #00d7ff\">None</span>, <span style=\"color: #00af00; text-decoration-color: #00af00\">1024</span>)           │     <span style=\"color: #00af00; text-decoration-color: #00af00\">3,736,576</span> │\n",
       "├─────────────────────────────────┼────────────────────────┼───────────────┤\n",
       "│ dropout_44 (<span style=\"color: #0087ff; text-decoration-color: #0087ff\">Dropout</span>)            │ (<span style=\"color: #00d7ff; text-decoration-color: #00d7ff\">None</span>, <span style=\"color: #00af00; text-decoration-color: #00af00\">1024</span>)           │             <span style=\"color: #00af00; text-decoration-color: #00af00\">0</span> │\n",
       "├─────────────────────────────────┼────────────────────────┼───────────────┤\n",
       "│ batch_normalization_33          │ (<span style=\"color: #00d7ff; text-decoration-color: #00d7ff\">None</span>, <span style=\"color: #00af00; text-decoration-color: #00af00\">1024</span>)           │         <span style=\"color: #00af00; text-decoration-color: #00af00\">4,096</span> │\n",
       "│ (<span style=\"color: #0087ff; text-decoration-color: #0087ff\">BatchNormalization</span>)            │                        │               │\n",
       "├─────────────────────────────────┼────────────────────────┼───────────────┤\n",
       "│ dense_64 (<span style=\"color: #0087ff; text-decoration-color: #0087ff\">Dense</span>)                │ (<span style=\"color: #00d7ff; text-decoration-color: #00d7ff\">None</span>, <span style=\"color: #00af00; text-decoration-color: #00af00\">512</span>)            │       <span style=\"color: #00af00; text-decoration-color: #00af00\">524,800</span> │\n",
       "├─────────────────────────────────┼────────────────────────┼───────────────┤\n",
       "│ dropout_45 (<span style=\"color: #0087ff; text-decoration-color: #0087ff\">Dropout</span>)            │ (<span style=\"color: #00d7ff; text-decoration-color: #00d7ff\">None</span>, <span style=\"color: #00af00; text-decoration-color: #00af00\">512</span>)            │             <span style=\"color: #00af00; text-decoration-color: #00af00\">0</span> │\n",
       "├─────────────────────────────────┼────────────────────────┼───────────────┤\n",
       "│ batch_normalization_34          │ (<span style=\"color: #00d7ff; text-decoration-color: #00d7ff\">None</span>, <span style=\"color: #00af00; text-decoration-color: #00af00\">512</span>)            │         <span style=\"color: #00af00; text-decoration-color: #00af00\">2,048</span> │\n",
       "│ (<span style=\"color: #0087ff; text-decoration-color: #0087ff\">BatchNormalization</span>)            │                        │               │\n",
       "├─────────────────────────────────┼────────────────────────┼───────────────┤\n",
       "│ dense_65 (<span style=\"color: #0087ff; text-decoration-color: #0087ff\">Dense</span>)                │ (<span style=\"color: #00d7ff; text-decoration-color: #00d7ff\">None</span>, <span style=\"color: #00af00; text-decoration-color: #00af00\">256</span>)            │       <span style=\"color: #00af00; text-decoration-color: #00af00\">131,328</span> │\n",
       "├─────────────────────────────────┼────────────────────────┼───────────────┤\n",
       "│ dropout_46 (<span style=\"color: #0087ff; text-decoration-color: #0087ff\">Dropout</span>)            │ (<span style=\"color: #00d7ff; text-decoration-color: #00d7ff\">None</span>, <span style=\"color: #00af00; text-decoration-color: #00af00\">256</span>)            │             <span style=\"color: #00af00; text-decoration-color: #00af00\">0</span> │\n",
       "├─────────────────────────────────┼────────────────────────┼───────────────┤\n",
       "│ batch_normalization_35          │ (<span style=\"color: #00d7ff; text-decoration-color: #00d7ff\">None</span>, <span style=\"color: #00af00; text-decoration-color: #00af00\">256</span>)            │         <span style=\"color: #00af00; text-decoration-color: #00af00\">1,024</span> │\n",
       "│ (<span style=\"color: #0087ff; text-decoration-color: #0087ff\">BatchNormalization</span>)            │                        │               │\n",
       "├─────────────────────────────────┼────────────────────────┼───────────────┤\n",
       "│ dense_66 (<span style=\"color: #0087ff; text-decoration-color: #0087ff\">Dense</span>)                │ (<span style=\"color: #00d7ff; text-decoration-color: #00d7ff\">None</span>, <span style=\"color: #00af00; text-decoration-color: #00af00\">128</span>)            │        <span style=\"color: #00af00; text-decoration-color: #00af00\">32,896</span> │\n",
       "├─────────────────────────────────┼────────────────────────┼───────────────┤\n",
       "│ dropout_47 (<span style=\"color: #0087ff; text-decoration-color: #0087ff\">Dropout</span>)            │ (<span style=\"color: #00d7ff; text-decoration-color: #00d7ff\">None</span>, <span style=\"color: #00af00; text-decoration-color: #00af00\">128</span>)            │             <span style=\"color: #00af00; text-decoration-color: #00af00\">0</span> │\n",
       "├─────────────────────────────────┼────────────────────────┼───────────────┤\n",
       "│ dense_67 (<span style=\"color: #0087ff; text-decoration-color: #0087ff\">Dense</span>)                │ (<span style=\"color: #00d7ff; text-decoration-color: #00d7ff\">None</span>, <span style=\"color: #00af00; text-decoration-color: #00af00\">2</span>)              │           <span style=\"color: #00af00; text-decoration-color: #00af00\">258</span> │\n",
       "└─────────────────────────────────┴────────────────────────┴───────────────┘\n",
       "</pre>\n"
      ]
     },
     "metadata": {},
     "output_type": "display_data"
    },
    {
     "data": {
      "text/plain": [
       "\u001B[1m Total params: \u001B[0m\u001B[38;5;34m4,447,618\u001B[0m (16.97 MB)\n"
      ],
      "text/html": [
       "<pre style=\"white-space:pre;overflow-x:auto;line-height:normal;font-family:Menlo,'DejaVu Sans Mono',consolas,'Courier New',monospace\"><span style=\"font-weight: bold\"> Total params: </span><span style=\"color: #00af00; text-decoration-color: #00af00\">4,447,618</span> (16.97 MB)\n",
       "</pre>\n"
      ]
     },
     "metadata": {},
     "output_type": "display_data"
    },
    {
     "data": {
      "text/plain": [
       "\u001B[1m Trainable params: \u001B[0m\u001B[38;5;34m4,436,738\u001B[0m (16.92 MB)\n"
      ],
      "text/html": [
       "<pre style=\"white-space:pre;overflow-x:auto;line-height:normal;font-family:Menlo,'DejaVu Sans Mono',consolas,'Courier New',monospace\"><span style=\"font-weight: bold\"> Trainable params: </span><span style=\"color: #00af00; text-decoration-color: #00af00\">4,436,738</span> (16.92 MB)\n",
       "</pre>\n"
      ]
     },
     "metadata": {},
     "output_type": "display_data"
    },
    {
     "data": {
      "text/plain": [
       "\u001B[1m Non-trainable params: \u001B[0m\u001B[38;5;34m10,880\u001B[0m (42.50 KB)\n"
      ],
      "text/html": [
       "<pre style=\"white-space:pre;overflow-x:auto;line-height:normal;font-family:Menlo,'DejaVu Sans Mono',consolas,'Courier New',monospace\"><span style=\"font-weight: bold\"> Non-trainable params: </span><span style=\"color: #00af00; text-decoration-color: #00af00\">10,880</span> (42.50 KB)\n",
       "</pre>\n"
      ]
     },
     "metadata": {},
     "output_type": "display_data"
    }
   ],
   "execution_count": 94
  },
  {
   "metadata": {
    "ExecuteTime": {
     "end_time": "2025-05-11T17:53:14.034940Z",
     "start_time": "2025-05-11T17:48:39.884361Z"
    }
   },
   "cell_type": "code",
   "source": [
    "import tensorflow as tf\n",
    "with tf.device('/gpu:0'):\n",
    "    lr_scheduler = LearningRateScheduler(lambda epoch: 0.0001 * (0.9 ** epoch))\n",
    "    early_stopping = EarlyStopping(patience=2, monitor='loss', restore_best_weights=True)\n",
    "    model.fit(dataset.train.features, dataset.train.labels, validation_data=(dataset.test.features, dataset.test.labels), epochs=20, batch_size=64, callbacks=[lr_scheduler, early_stopping], verbose=2)"
   ],
   "id": "375dde6522f59885",
   "outputs": [
    {
     "name": "stdout",
     "output_type": "stream",
     "text": [
      "Epoch 1/20\n",
      "521/521 - 15s - 30ms/step - accuracy: 0.5642 - loss: 0.7377 - val_accuracy: 0.6197 - val_loss: 0.6631 - learning_rate: 1.0000e-04\n",
      "Epoch 2/20\n",
      "521/521 - 13s - 26ms/step - accuracy: 0.6264 - loss: 0.6569 - val_accuracy: 0.6503 - val_loss: 0.6264 - learning_rate: 9.0000e-05\n",
      "Epoch 3/20\n",
      "521/521 - 13s - 26ms/step - accuracy: 0.6584 - loss: 0.6191 - val_accuracy: 0.6803 - val_loss: 0.5969 - learning_rate: 8.1000e-05\n",
      "Epoch 4/20\n",
      "521/521 - 13s - 26ms/step - accuracy: 0.6820 - loss: 0.5929 - val_accuracy: 0.6673 - val_loss: 0.6026 - learning_rate: 7.2900e-05\n",
      "Epoch 5/20\n",
      "521/521 - 14s - 26ms/step - accuracy: 0.6978 - loss: 0.5760 - val_accuracy: 0.6916 - val_loss: 0.5774 - learning_rate: 6.5610e-05\n",
      "Epoch 6/20\n",
      "521/521 - 13s - 26ms/step - accuracy: 0.7129 - loss: 0.5588 - val_accuracy: 0.7005 - val_loss: 0.5753 - learning_rate: 5.9049e-05\n",
      "Epoch 7/20\n",
      "521/521 - 14s - 26ms/step - accuracy: 0.7217 - loss: 0.5448 - val_accuracy: 0.7038 - val_loss: 0.5724 - learning_rate: 5.3144e-05\n",
      "Epoch 8/20\n",
      "521/521 - 14s - 27ms/step - accuracy: 0.7291 - loss: 0.5345 - val_accuracy: 0.7346 - val_loss: 0.5421 - learning_rate: 4.7830e-05\n",
      "Epoch 9/20\n",
      "521/521 - 14s - 27ms/step - accuracy: 0.7333 - loss: 0.5291 - val_accuracy: 0.7346 - val_loss: 0.5387 - learning_rate: 4.3047e-05\n",
      "Epoch 10/20\n",
      "521/521 - 14s - 27ms/step - accuracy: 0.7387 - loss: 0.5199 - val_accuracy: 0.7259 - val_loss: 0.5399 - learning_rate: 3.8742e-05\n",
      "Epoch 11/20\n",
      "521/521 - 14s - 26ms/step - accuracy: 0.7434 - loss: 0.5135 - val_accuracy: 0.7414 - val_loss: 0.5390 - learning_rate: 3.4868e-05\n",
      "Epoch 12/20\n",
      "521/521 - 14s - 26ms/step - accuracy: 0.7482 - loss: 0.5069 - val_accuracy: 0.7276 - val_loss: 0.5330 - learning_rate: 3.1381e-05\n",
      "Epoch 13/20\n",
      "521/521 - 13s - 26ms/step - accuracy: 0.7527 - loss: 0.5020 - val_accuracy: 0.6962 - val_loss: 0.5835 - learning_rate: 2.8243e-05\n",
      "Epoch 14/20\n",
      "521/521 - 14s - 26ms/step - accuracy: 0.7558 - loss: 0.4949 - val_accuracy: 0.7441 - val_loss: 0.5438 - learning_rate: 2.5419e-05\n",
      "Epoch 15/20\n",
      "521/521 - 13s - 26ms/step - accuracy: 0.7559 - loss: 0.4939 - val_accuracy: 0.7195 - val_loss: 0.5543 - learning_rate: 2.2877e-05\n",
      "Epoch 16/20\n",
      "521/521 - 14s - 27ms/step - accuracy: 0.7622 - loss: 0.4891 - val_accuracy: 0.7208 - val_loss: 0.5637 - learning_rate: 2.0589e-05\n",
      "Epoch 17/20\n",
      "521/521 - 14s - 26ms/step - accuracy: 0.7635 - loss: 0.4833 - val_accuracy: 0.7027 - val_loss: 0.6276 - learning_rate: 1.8530e-05\n",
      "Epoch 18/20\n",
      "521/521 - 13s - 26ms/step - accuracy: 0.7659 - loss: 0.4779 - val_accuracy: 0.7395 - val_loss: 0.5326 - learning_rate: 1.6677e-05\n",
      "Epoch 19/20\n",
      "521/521 - 13s - 26ms/step - accuracy: 0.7684 - loss: 0.4764 - val_accuracy: 0.7416 - val_loss: 0.5312 - learning_rate: 1.5009e-05\n",
      "Epoch 20/20\n",
      "521/521 - 13s - 26ms/step - accuracy: 0.7714 - loss: 0.4727 - val_accuracy: 0.7105 - val_loss: 0.6076 - learning_rate: 1.3509e-05\n"
     ]
    }
   ],
   "execution_count": 95
  },
  {
   "metadata": {
    "ExecuteTime": {
     "end_time": "2025-05-11T17:53:14.452787Z",
     "start_time": "2025-05-11T17:53:14.047065Z"
    }
   },
   "cell_type": "code",
   "source": "print(evaluate(model, dataset.test.features, dataset.test.labels))\n",
   "id": "c768a1f37ef62021",
   "outputs": [
    {
     "name": "stdout",
     "output_type": "stream",
     "text": [
      "\u001B[1m116/116\u001B[0m \u001B[32m━━━━━━━━━━━━━━━━━━━━\u001B[0m\u001B[37m\u001B[0m \u001B[1m0s\u001B[0m 2ms/step\n",
      "## Accuracy: 0.7105405405405405\n",
      "\n",
      "## F1 Score: 0.7084809338497355\n",
      "\n",
      "\n",
      "(0.7105405405405405, 0.7084809338497355)\n"
     ]
    }
   ],
   "execution_count": 96
  },
  {
   "metadata": {},
   "cell_type": "markdown",
   "source": "## LSTM",
   "id": "69167ecd6dfb4b2a"
  },
  {
   "metadata": {
    "ExecuteTime": {
     "end_time": "2025-05-11T17:53:14.497594Z",
     "start_time": "2025-05-11T17:53:14.458263Z"
    }
   },
   "cell_type": "code",
   "source": [
    "from keras.api.layers import LSTM, RepeatVector\n",
    "\n",
    "try:\n",
    "    del lstm\n",
    "except:\n",
    "    pass\n",
    "# Define input shape with sequential data\n",
    "# 512 is the shape of the clip embedding that is why I'm choosing that\n",
    "inputs = Input(shape=(1, dataset.train.features.shape[1]))  # Add timesteps dimension\n",
    "\n",
    "# LSTM Embedding Layer\n",
    "x = LSTM(units=128, return_sequences=False)(inputs)  # Return the final state output as embedding\n",
    "\n",
    "# Optionally add dense layers after LSTM for better feature processing\n",
    "x = Dense(units=128, activation='leaky_relu')(x)\n",
    "\n",
    "x = Dense(units=64, activation='leaky_relu')(x)\n",
    "# Define the output layer for classification\n",
    "outputs = Dense(units=2, activation='softmax')(x)\n",
    "\n",
    "# Create the model\n",
    "lstm = Model(inputs=inputs, outputs=outputs)\n",
    "\n",
    "# Compile the model\n",
    "lstm.compile(optimizer='adam',\n",
    "              loss='categorical_crossentropy',\n",
    "              metrics=['accuracy'])\n",
    "\n",
    "# Print summary\n",
    "lstm.summary()\n"
   ],
   "id": "7ba264c66d794ba0",
   "outputs": [
    {
     "data": {
      "text/plain": [
       "\u001B[1mModel: \"functional_16\"\u001B[0m\n"
      ],
      "text/html": [
       "<pre style=\"white-space:pre;overflow-x:auto;line-height:normal;font-family:Menlo,'DejaVu Sans Mono',consolas,'Courier New',monospace\"><span style=\"font-weight: bold\">Model: \"functional_16\"</span>\n",
       "</pre>\n"
      ]
     },
     "metadata": {},
     "output_type": "display_data"
    },
    {
     "data": {
      "text/plain": [
       "┏━━━━━━━━━━━━━━━━━━━━━━━━━━━━━━━━━┳━━━━━━━━━━━━━━━━━━━━━━━━┳━━━━━━━━━━━━━━━┓\n",
       "┃\u001B[1m \u001B[0m\u001B[1mLayer (type)                   \u001B[0m\u001B[1m \u001B[0m┃\u001B[1m \u001B[0m\u001B[1mOutput Shape          \u001B[0m\u001B[1m \u001B[0m┃\u001B[1m \u001B[0m\u001B[1m      Param #\u001B[0m\u001B[1m \u001B[0m┃\n",
       "┡━━━━━━━━━━━━━━━━━━━━━━━━━━━━━━━━━╇━━━━━━━━━━━━━━━━━━━━━━━━╇━━━━━━━━━━━━━━━┩\n",
       "│ input_layer_20 (\u001B[38;5;33mInputLayer\u001B[0m)     │ (\u001B[38;5;45mNone\u001B[0m, \u001B[38;5;34m1\u001B[0m, \u001B[38;5;34m3648\u001B[0m)        │             \u001B[38;5;34m0\u001B[0m │\n",
       "├─────────────────────────────────┼────────────────────────┼───────────────┤\n",
       "│ lstm_12 (\u001B[38;5;33mLSTM\u001B[0m)                  │ (\u001B[38;5;45mNone\u001B[0m, \u001B[38;5;34m128\u001B[0m)            │     \u001B[38;5;34m1,933,824\u001B[0m │\n",
       "├─────────────────────────────────┼────────────────────────┼───────────────┤\n",
       "│ dense_68 (\u001B[38;5;33mDense\u001B[0m)                │ (\u001B[38;5;45mNone\u001B[0m, \u001B[38;5;34m128\u001B[0m)            │        \u001B[38;5;34m16,512\u001B[0m │\n",
       "├─────────────────────────────────┼────────────────────────┼───────────────┤\n",
       "│ dense_69 (\u001B[38;5;33mDense\u001B[0m)                │ (\u001B[38;5;45mNone\u001B[0m, \u001B[38;5;34m64\u001B[0m)             │         \u001B[38;5;34m8,256\u001B[0m │\n",
       "├─────────────────────────────────┼────────────────────────┼───────────────┤\n",
       "│ dense_70 (\u001B[38;5;33mDense\u001B[0m)                │ (\u001B[38;5;45mNone\u001B[0m, \u001B[38;5;34m2\u001B[0m)              │           \u001B[38;5;34m130\u001B[0m │\n",
       "└─────────────────────────────────┴────────────────────────┴───────────────┘\n"
      ],
      "text/html": [
       "<pre style=\"white-space:pre;overflow-x:auto;line-height:normal;font-family:Menlo,'DejaVu Sans Mono',consolas,'Courier New',monospace\">┏━━━━━━━━━━━━━━━━━━━━━━━━━━━━━━━━━┳━━━━━━━━━━━━━━━━━━━━━━━━┳━━━━━━━━━━━━━━━┓\n",
       "┃<span style=\"font-weight: bold\"> Layer (type)                    </span>┃<span style=\"font-weight: bold\"> Output Shape           </span>┃<span style=\"font-weight: bold\">       Param # </span>┃\n",
       "┡━━━━━━━━━━━━━━━━━━━━━━━━━━━━━━━━━╇━━━━━━━━━━━━━━━━━━━━━━━━╇━━━━━━━━━━━━━━━┩\n",
       "│ input_layer_20 (<span style=\"color: #0087ff; text-decoration-color: #0087ff\">InputLayer</span>)     │ (<span style=\"color: #00d7ff; text-decoration-color: #00d7ff\">None</span>, <span style=\"color: #00af00; text-decoration-color: #00af00\">1</span>, <span style=\"color: #00af00; text-decoration-color: #00af00\">3648</span>)        │             <span style=\"color: #00af00; text-decoration-color: #00af00\">0</span> │\n",
       "├─────────────────────────────────┼────────────────────────┼───────────────┤\n",
       "│ lstm_12 (<span style=\"color: #0087ff; text-decoration-color: #0087ff\">LSTM</span>)                  │ (<span style=\"color: #00d7ff; text-decoration-color: #00d7ff\">None</span>, <span style=\"color: #00af00; text-decoration-color: #00af00\">128</span>)            │     <span style=\"color: #00af00; text-decoration-color: #00af00\">1,933,824</span> │\n",
       "├─────────────────────────────────┼────────────────────────┼───────────────┤\n",
       "│ dense_68 (<span style=\"color: #0087ff; text-decoration-color: #0087ff\">Dense</span>)                │ (<span style=\"color: #00d7ff; text-decoration-color: #00d7ff\">None</span>, <span style=\"color: #00af00; text-decoration-color: #00af00\">128</span>)            │        <span style=\"color: #00af00; text-decoration-color: #00af00\">16,512</span> │\n",
       "├─────────────────────────────────┼────────────────────────┼───────────────┤\n",
       "│ dense_69 (<span style=\"color: #0087ff; text-decoration-color: #0087ff\">Dense</span>)                │ (<span style=\"color: #00d7ff; text-decoration-color: #00d7ff\">None</span>, <span style=\"color: #00af00; text-decoration-color: #00af00\">64</span>)             │         <span style=\"color: #00af00; text-decoration-color: #00af00\">8,256</span> │\n",
       "├─────────────────────────────────┼────────────────────────┼───────────────┤\n",
       "│ dense_70 (<span style=\"color: #0087ff; text-decoration-color: #0087ff\">Dense</span>)                │ (<span style=\"color: #00d7ff; text-decoration-color: #00d7ff\">None</span>, <span style=\"color: #00af00; text-decoration-color: #00af00\">2</span>)              │           <span style=\"color: #00af00; text-decoration-color: #00af00\">130</span> │\n",
       "└─────────────────────────────────┴────────────────────────┴───────────────┘\n",
       "</pre>\n"
      ]
     },
     "metadata": {},
     "output_type": "display_data"
    },
    {
     "data": {
      "text/plain": [
       "\u001B[1m Total params: \u001B[0m\u001B[38;5;34m1,958,722\u001B[0m (7.47 MB)\n"
      ],
      "text/html": [
       "<pre style=\"white-space:pre;overflow-x:auto;line-height:normal;font-family:Menlo,'DejaVu Sans Mono',consolas,'Courier New',monospace\"><span style=\"font-weight: bold\"> Total params: </span><span style=\"color: #00af00; text-decoration-color: #00af00\">1,958,722</span> (7.47 MB)\n",
       "</pre>\n"
      ]
     },
     "metadata": {},
     "output_type": "display_data"
    },
    {
     "data": {
      "text/plain": [
       "\u001B[1m Trainable params: \u001B[0m\u001B[38;5;34m1,958,722\u001B[0m (7.47 MB)\n"
      ],
      "text/html": [
       "<pre style=\"white-space:pre;overflow-x:auto;line-height:normal;font-family:Menlo,'DejaVu Sans Mono',consolas,'Courier New',monospace\"><span style=\"font-weight: bold\"> Trainable params: </span><span style=\"color: #00af00; text-decoration-color: #00af00\">1,958,722</span> (7.47 MB)\n",
       "</pre>\n"
      ]
     },
     "metadata": {},
     "output_type": "display_data"
    },
    {
     "data": {
      "text/plain": [
       "\u001B[1m Non-trainable params: \u001B[0m\u001B[38;5;34m0\u001B[0m (0.00 B)\n"
      ],
      "text/html": [
       "<pre style=\"white-space:pre;overflow-x:auto;line-height:normal;font-family:Menlo,'DejaVu Sans Mono',consolas,'Courier New',monospace\"><span style=\"font-weight: bold\"> Non-trainable params: </span><span style=\"color: #00af00; text-decoration-color: #00af00\">0</span> (0.00 B)\n",
       "</pre>\n"
      ]
     },
     "metadata": {},
     "output_type": "display_data"
    }
   ],
   "execution_count": 97
  },
  {
   "metadata": {
    "ExecuteTime": {
     "end_time": "2025-05-11T17:56:29.243909Z",
     "start_time": "2025-05-11T17:53:48.237647Z"
    }
   },
   "cell_type": "code",
   "source": [
    "import tensorflow as tf\n",
    "from keras.api.callbacks import LearningRateScheduler, EarlyStopping, Callback\n",
    "\n",
    "\n",
    "X_train_reshaped = dataset.train.features.reshape(-1, 1, dataset.train.features.shape[1])\n",
    "X_test_reshaped  = dataset.test.features.reshape(-1, 1, dataset.test.features.shape[1])\n",
    "\n",
    "\n",
    "# Assuming dataset.train.features and dataset.train.labels are re-shaped correctly\n",
    "with tf.device('/gpu:0'):\n",
    "    lr_scheduler = LearningRateScheduler(lambda epoch: 0.0001 * (0.9 ** epoch))\n",
    "    early_stopping = EarlyStopping(patience=2, monitor='loss', restore_best_weights=True)\n",
    "    lstm.fit(X_train_reshaped, dataset.train.labels,\n",
    "              validation_data=(X_test_reshaped, dataset.test.labels),\n",
    "              epochs=20, batch_size=64,\n",
    "                callbacks=[lr_scheduler, early_stopping],\n",
    "              verbose=2)\n",
    "\n"
   ],
   "id": "2b68e158c7f5a519",
   "outputs": [
    {
     "name": "stdout",
     "output_type": "stream",
     "text": [
      "Epoch 1/20\n",
      "521/521 - 8s - 16ms/step - accuracy: 0.6114 - loss: 0.6559 - val_accuracy: 0.5981 - val_loss: 0.6532 - learning_rate: 1.0000e-04\n",
      "Epoch 2/20\n",
      "521/521 - 8s - 15ms/step - accuracy: 0.6380 - loss: 0.6355 - val_accuracy: 0.6616 - val_loss: 0.6273 - learning_rate: 9.0000e-05\n",
      "Epoch 3/20\n",
      "521/521 - 8s - 15ms/step - accuracy: 0.6542 - loss: 0.6204 - val_accuracy: 0.5951 - val_loss: 0.6600 - learning_rate: 8.1000e-05\n",
      "Epoch 4/20\n",
      "521/521 - 8s - 15ms/step - accuracy: 0.6681 - loss: 0.6069 - val_accuracy: 0.6781 - val_loss: 0.6069 - learning_rate: 7.2900e-05\n",
      "Epoch 5/20\n",
      "521/521 - 8s - 15ms/step - accuracy: 0.6802 - loss: 0.5968 - val_accuracy: 0.6732 - val_loss: 0.6135 - learning_rate: 6.5610e-05\n",
      "Epoch 6/20\n",
      "521/521 - 8s - 15ms/step - accuracy: 0.6808 - loss: 0.5936 - val_accuracy: 0.6808 - val_loss: 0.6085 - learning_rate: 5.9049e-05\n",
      "Epoch 7/20\n",
      "521/521 - 8s - 15ms/step - accuracy: 0.6925 - loss: 0.5829 - val_accuracy: 0.6803 - val_loss: 0.6065 - learning_rate: 5.3144e-05\n",
      "Epoch 8/20\n",
      "521/521 - 8s - 15ms/step - accuracy: 0.6936 - loss: 0.5795 - val_accuracy: 0.6911 - val_loss: 0.5841 - learning_rate: 4.7830e-05\n",
      "Epoch 9/20\n",
      "521/521 - 8s - 15ms/step - accuracy: 0.7033 - loss: 0.5723 - val_accuracy: 0.6914 - val_loss: 0.5822 - learning_rate: 4.3047e-05\n",
      "Epoch 10/20\n",
      "521/521 - 8s - 15ms/step - accuracy: 0.7055 - loss: 0.5652 - val_accuracy: 0.6946 - val_loss: 0.5778 - learning_rate: 3.8742e-05\n",
      "Epoch 11/20\n",
      "521/521 - 8s - 15ms/step - accuracy: 0.7145 - loss: 0.5586 - val_accuracy: 0.7024 - val_loss: 0.5759 - learning_rate: 3.4868e-05\n",
      "Epoch 12/20\n",
      "521/521 - 8s - 15ms/step - accuracy: 0.7133 - loss: 0.5581 - val_accuracy: 0.6724 - val_loss: 0.6206 - learning_rate: 3.1381e-05\n",
      "Epoch 13/20\n",
      "521/521 - 8s - 15ms/step - accuracy: 0.7186 - loss: 0.5505 - val_accuracy: 0.7141 - val_loss: 0.5648 - learning_rate: 2.8243e-05\n",
      "Epoch 14/20\n",
      "521/521 - 8s - 15ms/step - accuracy: 0.7213 - loss: 0.5479 - val_accuracy: 0.6976 - val_loss: 0.5839 - learning_rate: 2.5419e-05\n",
      "Epoch 15/20\n",
      "521/521 - 8s - 15ms/step - accuracy: 0.7264 - loss: 0.5429 - val_accuracy: 0.7078 - val_loss: 0.5667 - learning_rate: 2.2877e-05\n",
      "Epoch 16/20\n",
      "521/521 - 8s - 15ms/step - accuracy: 0.7287 - loss: 0.5400 - val_accuracy: 0.7008 - val_loss: 0.5667 - learning_rate: 2.0589e-05\n",
      "Epoch 17/20\n",
      "521/521 - 8s - 15ms/step - accuracy: 0.7307 - loss: 0.5360 - val_accuracy: 0.7157 - val_loss: 0.5549 - learning_rate: 1.8530e-05\n",
      "Epoch 18/20\n",
      "521/521 - 8s - 15ms/step - accuracy: 0.7332 - loss: 0.5320 - val_accuracy: 0.7208 - val_loss: 0.5514 - learning_rate: 1.6677e-05\n",
      "Epoch 19/20\n",
      "521/521 - 8s - 15ms/step - accuracy: 0.7350 - loss: 0.5291 - val_accuracy: 0.7214 - val_loss: 0.5564 - learning_rate: 1.5009e-05\n",
      "Epoch 20/20\n",
      "521/521 - 8s - 15ms/step - accuracy: 0.7371 - loss: 0.5281 - val_accuracy: 0.7270 - val_loss: 0.5494 - learning_rate: 1.3509e-05\n"
     ]
    }
   ],
   "execution_count": 99
  },
  {
   "metadata": {
    "ExecuteTime": {
     "end_time": "2025-05-11T17:56:29.581230Z",
     "start_time": "2025-05-11T17:56:29.252418Z"
    }
   },
   "cell_type": "code",
   "source": [
    "# 128 LSTM without dropout\n",
    "evaluate(lstm, X_test_reshaped, dataset.test.labels)"
   ],
   "id": "7b8282018ab7e8dd",
   "outputs": [
    {
     "name": "stdout",
     "output_type": "stream",
     "text": [
      "\u001B[1m116/116\u001B[0m \u001B[32m━━━━━━━━━━━━━━━━━━━━\u001B[0m\u001B[37m\u001B[0m \u001B[1m0s\u001B[0m 2ms/step\n",
      "## Accuracy: 0.727027027027027\n",
      "\n",
      "## F1 Score: 0.7265895703395703\n",
      "\n",
      "\n"
     ]
    },
    {
     "data": {
      "text/plain": [
       "(0.727027027027027, 0.7265895703395703)"
      ]
     },
     "execution_count": 100,
     "metadata": {},
     "output_type": "execute_result"
    }
   ],
   "execution_count": 100
  },
  {
   "metadata": {},
   "cell_type": "markdown",
   "source": "# With Embedding | With Cloud | With Triangulation Dataset",
   "id": "3ec551d679ae35cc"
  },
  {
   "metadata": {
    "ExecuteTime": {
     "end_time": "2025-05-12T06:57:46.709586Z",
     "start_time": "2025-05-12T06:57:46.594750Z"
    }
   },
   "cell_type": "code",
   "source": [
    "with open(\"/Users/eden.yavin/Projects/Tabular-Cloud-ML/store/dataset_w_cl_w_em.pkl\", \"rb\") as f:\n",
    "    dataset = pickle.load(f)"
   ],
   "id": "a84a24a3e689e0fa",
   "outputs": [],
   "execution_count": 7
  },
  {
   "metadata": {},
   "cell_type": "markdown",
   "source": "## Dense",
   "id": "ad4dfe94870d0a84"
  },
  {
   "metadata": {
    "ExecuteTime": {
     "end_time": "2025-05-12T06:57:48.120121Z",
     "start_time": "2025-05-12T06:57:48.017520Z"
    }
   },
   "cell_type": "code",
   "source": [
    "from keras.src.metrics import F1Score\n",
    "from keras.src.callbacks import LearningRateScheduler\n",
    "from sklearn.base import BaseEstimator, ClassifierMixin\n",
    "from sklearn.metrics import accuracy_score, f1_score\n",
    "from keras.src.models import Model\n",
    "from keras.src.callbacks import EarlyStopping\n",
    "from keras.src.layers import Dropout, Dense, BatchNormalization, Input, Flatten\n",
    "\n",
    "\n",
    "try:\n",
    "    del model\n",
    "except:\n",
    "    pass\n",
    "\n",
    "inputs = Input(shape=(dataset.train.features.shape[1],))  # Dynamic input shape\n",
    "\n",
    "x = BatchNormalization()(inputs)\n",
    "x = Dense(units=2048, activation='leaky_relu')(x)\n",
    "x = Dropout(0.1)(x)\n",
    "\n",
    "x = BatchNormalization()(inputs)\n",
    "x = Dense(units=1024, activation='leaky_relu')(x)\n",
    "x = Dropout(0.1)(x)\n",
    "\n",
    "x = BatchNormalization()(x)\n",
    "x = Dense(units=512, activation='leaky_relu')(x)\n",
    "x = Dropout(0.1)(x)\n",
    "\n",
    "x = BatchNormalization()(x)\n",
    "x = Dense(units=256, activation='leaky_relu')(x)\n",
    "x = Dropout(0.1)(x)\n",
    "\n",
    "x = BatchNormalization()(x)\n",
    "x = Dense(units=128, activation='leaky_relu')(x)\n",
    "x = Dropout(0.1)(x)\n",
    "\n",
    "# Define the output layer\n",
    "outputs = Dense(units=2, activation='softmax')(x)\n",
    "\n",
    "# Create the model\n",
    "model = Model(inputs=inputs, outputs=outputs)\n",
    "\n",
    "# Compile the model with F1 Score\n",
    "model.compile(optimizer='adam',\n",
    "              loss='categorical_crossentropy',\n",
    "              metrics=['accuracy']\n",
    "              )\n",
    "model.summary()"
   ],
   "id": "2699a809af889da0",
   "outputs": [
    {
     "data": {
      "text/plain": [
       "\u001B[1mModel: \"functional_1\"\u001B[0m\n"
      ],
      "text/html": [
       "<pre style=\"white-space:pre;overflow-x:auto;line-height:normal;font-family:Menlo,'DejaVu Sans Mono',consolas,'Courier New',monospace\"><span style=\"font-weight: bold\">Model: \"functional_1\"</span>\n",
       "</pre>\n"
      ]
     },
     "metadata": {},
     "output_type": "display_data"
    },
    {
     "data": {
      "text/plain": [
       "┏━━━━━━━━━━━━━━━━━━━━━━━━━━━━━━━━━┳━━━━━━━━━━━━━━━━━━━━━━━━┳━━━━━━━━━━━━━━━┓\n",
       "┃\u001B[1m \u001B[0m\u001B[1mLayer (type)                   \u001B[0m\u001B[1m \u001B[0m┃\u001B[1m \u001B[0m\u001B[1mOutput Shape          \u001B[0m\u001B[1m \u001B[0m┃\u001B[1m \u001B[0m\u001B[1m      Param #\u001B[0m\u001B[1m \u001B[0m┃\n",
       "┡━━━━━━━━━━━━━━━━━━━━━━━━━━━━━━━━━╇━━━━━━━━━━━━━━━━━━━━━━━━╇━━━━━━━━━━━━━━━┩\n",
       "│ input_layer_1 (\u001B[38;5;33mInputLayer\u001B[0m)      │ (\u001B[38;5;45mNone\u001B[0m, \u001B[38;5;34m4648\u001B[0m)           │             \u001B[38;5;34m0\u001B[0m │\n",
       "├─────────────────────────────────┼────────────────────────┼───────────────┤\n",
       "│ batch_normalization_6           │ (\u001B[38;5;45mNone\u001B[0m, \u001B[38;5;34m4648\u001B[0m)           │        \u001B[38;5;34m18,592\u001B[0m │\n",
       "│ (\u001B[38;5;33mBatchNormalization\u001B[0m)            │                        │               │\n",
       "├─────────────────────────────────┼────────────────────────┼───────────────┤\n",
       "│ dense_7 (\u001B[38;5;33mDense\u001B[0m)                 │ (\u001B[38;5;45mNone\u001B[0m, \u001B[38;5;34m1024\u001B[0m)           │     \u001B[38;5;34m4,760,576\u001B[0m │\n",
       "├─────────────────────────────────┼────────────────────────┼───────────────┤\n",
       "│ dropout_6 (\u001B[38;5;33mDropout\u001B[0m)             │ (\u001B[38;5;45mNone\u001B[0m, \u001B[38;5;34m1024\u001B[0m)           │             \u001B[38;5;34m0\u001B[0m │\n",
       "├─────────────────────────────────┼────────────────────────┼───────────────┤\n",
       "│ batch_normalization_7           │ (\u001B[38;5;45mNone\u001B[0m, \u001B[38;5;34m1024\u001B[0m)           │         \u001B[38;5;34m4,096\u001B[0m │\n",
       "│ (\u001B[38;5;33mBatchNormalization\u001B[0m)            │                        │               │\n",
       "├─────────────────────────────────┼────────────────────────┼───────────────┤\n",
       "│ dense_8 (\u001B[38;5;33mDense\u001B[0m)                 │ (\u001B[38;5;45mNone\u001B[0m, \u001B[38;5;34m512\u001B[0m)            │       \u001B[38;5;34m524,800\u001B[0m │\n",
       "├─────────────────────────────────┼────────────────────────┼───────────────┤\n",
       "│ dropout_7 (\u001B[38;5;33mDropout\u001B[0m)             │ (\u001B[38;5;45mNone\u001B[0m, \u001B[38;5;34m512\u001B[0m)            │             \u001B[38;5;34m0\u001B[0m │\n",
       "├─────────────────────────────────┼────────────────────────┼───────────────┤\n",
       "│ batch_normalization_8           │ (\u001B[38;5;45mNone\u001B[0m, \u001B[38;5;34m512\u001B[0m)            │         \u001B[38;5;34m2,048\u001B[0m │\n",
       "│ (\u001B[38;5;33mBatchNormalization\u001B[0m)            │                        │               │\n",
       "├─────────────────────────────────┼────────────────────────┼───────────────┤\n",
       "│ dense_9 (\u001B[38;5;33mDense\u001B[0m)                 │ (\u001B[38;5;45mNone\u001B[0m, \u001B[38;5;34m256\u001B[0m)            │       \u001B[38;5;34m131,328\u001B[0m │\n",
       "├─────────────────────────────────┼────────────────────────┼───────────────┤\n",
       "│ dropout_8 (\u001B[38;5;33mDropout\u001B[0m)             │ (\u001B[38;5;45mNone\u001B[0m, \u001B[38;5;34m256\u001B[0m)            │             \u001B[38;5;34m0\u001B[0m │\n",
       "├─────────────────────────────────┼────────────────────────┼───────────────┤\n",
       "│ batch_normalization_9           │ (\u001B[38;5;45mNone\u001B[0m, \u001B[38;5;34m256\u001B[0m)            │         \u001B[38;5;34m1,024\u001B[0m │\n",
       "│ (\u001B[38;5;33mBatchNormalization\u001B[0m)            │                        │               │\n",
       "├─────────────────────────────────┼────────────────────────┼───────────────┤\n",
       "│ dense_10 (\u001B[38;5;33mDense\u001B[0m)                │ (\u001B[38;5;45mNone\u001B[0m, \u001B[38;5;34m128\u001B[0m)            │        \u001B[38;5;34m32,896\u001B[0m │\n",
       "├─────────────────────────────────┼────────────────────────┼───────────────┤\n",
       "│ dropout_9 (\u001B[38;5;33mDropout\u001B[0m)             │ (\u001B[38;5;45mNone\u001B[0m, \u001B[38;5;34m128\u001B[0m)            │             \u001B[38;5;34m0\u001B[0m │\n",
       "├─────────────────────────────────┼────────────────────────┼───────────────┤\n",
       "│ dense_11 (\u001B[38;5;33mDense\u001B[0m)                │ (\u001B[38;5;45mNone\u001B[0m, \u001B[38;5;34m2\u001B[0m)              │           \u001B[38;5;34m258\u001B[0m │\n",
       "└─────────────────────────────────┴────────────────────────┴───────────────┘\n"
      ],
      "text/html": [
       "<pre style=\"white-space:pre;overflow-x:auto;line-height:normal;font-family:Menlo,'DejaVu Sans Mono',consolas,'Courier New',monospace\">┏━━━━━━━━━━━━━━━━━━━━━━━━━━━━━━━━━┳━━━━━━━━━━━━━━━━━━━━━━━━┳━━━━━━━━━━━━━━━┓\n",
       "┃<span style=\"font-weight: bold\"> Layer (type)                    </span>┃<span style=\"font-weight: bold\"> Output Shape           </span>┃<span style=\"font-weight: bold\">       Param # </span>┃\n",
       "┡━━━━━━━━━━━━━━━━━━━━━━━━━━━━━━━━━╇━━━━━━━━━━━━━━━━━━━━━━━━╇━━━━━━━━━━━━━━━┩\n",
       "│ input_layer_1 (<span style=\"color: #0087ff; text-decoration-color: #0087ff\">InputLayer</span>)      │ (<span style=\"color: #00d7ff; text-decoration-color: #00d7ff\">None</span>, <span style=\"color: #00af00; text-decoration-color: #00af00\">4648</span>)           │             <span style=\"color: #00af00; text-decoration-color: #00af00\">0</span> │\n",
       "├─────────────────────────────────┼────────────────────────┼───────────────┤\n",
       "│ batch_normalization_6           │ (<span style=\"color: #00d7ff; text-decoration-color: #00d7ff\">None</span>, <span style=\"color: #00af00; text-decoration-color: #00af00\">4648</span>)           │        <span style=\"color: #00af00; text-decoration-color: #00af00\">18,592</span> │\n",
       "│ (<span style=\"color: #0087ff; text-decoration-color: #0087ff\">BatchNormalization</span>)            │                        │               │\n",
       "├─────────────────────────────────┼────────────────────────┼───────────────┤\n",
       "│ dense_7 (<span style=\"color: #0087ff; text-decoration-color: #0087ff\">Dense</span>)                 │ (<span style=\"color: #00d7ff; text-decoration-color: #00d7ff\">None</span>, <span style=\"color: #00af00; text-decoration-color: #00af00\">1024</span>)           │     <span style=\"color: #00af00; text-decoration-color: #00af00\">4,760,576</span> │\n",
       "├─────────────────────────────────┼────────────────────────┼───────────────┤\n",
       "│ dropout_6 (<span style=\"color: #0087ff; text-decoration-color: #0087ff\">Dropout</span>)             │ (<span style=\"color: #00d7ff; text-decoration-color: #00d7ff\">None</span>, <span style=\"color: #00af00; text-decoration-color: #00af00\">1024</span>)           │             <span style=\"color: #00af00; text-decoration-color: #00af00\">0</span> │\n",
       "├─────────────────────────────────┼────────────────────────┼───────────────┤\n",
       "│ batch_normalization_7           │ (<span style=\"color: #00d7ff; text-decoration-color: #00d7ff\">None</span>, <span style=\"color: #00af00; text-decoration-color: #00af00\">1024</span>)           │         <span style=\"color: #00af00; text-decoration-color: #00af00\">4,096</span> │\n",
       "│ (<span style=\"color: #0087ff; text-decoration-color: #0087ff\">BatchNormalization</span>)            │                        │               │\n",
       "├─────────────────────────────────┼────────────────────────┼───────────────┤\n",
       "│ dense_8 (<span style=\"color: #0087ff; text-decoration-color: #0087ff\">Dense</span>)                 │ (<span style=\"color: #00d7ff; text-decoration-color: #00d7ff\">None</span>, <span style=\"color: #00af00; text-decoration-color: #00af00\">512</span>)            │       <span style=\"color: #00af00; text-decoration-color: #00af00\">524,800</span> │\n",
       "├─────────────────────────────────┼────────────────────────┼───────────────┤\n",
       "│ dropout_7 (<span style=\"color: #0087ff; text-decoration-color: #0087ff\">Dropout</span>)             │ (<span style=\"color: #00d7ff; text-decoration-color: #00d7ff\">None</span>, <span style=\"color: #00af00; text-decoration-color: #00af00\">512</span>)            │             <span style=\"color: #00af00; text-decoration-color: #00af00\">0</span> │\n",
       "├─────────────────────────────────┼────────────────────────┼───────────────┤\n",
       "│ batch_normalization_8           │ (<span style=\"color: #00d7ff; text-decoration-color: #00d7ff\">None</span>, <span style=\"color: #00af00; text-decoration-color: #00af00\">512</span>)            │         <span style=\"color: #00af00; text-decoration-color: #00af00\">2,048</span> │\n",
       "│ (<span style=\"color: #0087ff; text-decoration-color: #0087ff\">BatchNormalization</span>)            │                        │               │\n",
       "├─────────────────────────────────┼────────────────────────┼───────────────┤\n",
       "│ dense_9 (<span style=\"color: #0087ff; text-decoration-color: #0087ff\">Dense</span>)                 │ (<span style=\"color: #00d7ff; text-decoration-color: #00d7ff\">None</span>, <span style=\"color: #00af00; text-decoration-color: #00af00\">256</span>)            │       <span style=\"color: #00af00; text-decoration-color: #00af00\">131,328</span> │\n",
       "├─────────────────────────────────┼────────────────────────┼───────────────┤\n",
       "│ dropout_8 (<span style=\"color: #0087ff; text-decoration-color: #0087ff\">Dropout</span>)             │ (<span style=\"color: #00d7ff; text-decoration-color: #00d7ff\">None</span>, <span style=\"color: #00af00; text-decoration-color: #00af00\">256</span>)            │             <span style=\"color: #00af00; text-decoration-color: #00af00\">0</span> │\n",
       "├─────────────────────────────────┼────────────────────────┼───────────────┤\n",
       "│ batch_normalization_9           │ (<span style=\"color: #00d7ff; text-decoration-color: #00d7ff\">None</span>, <span style=\"color: #00af00; text-decoration-color: #00af00\">256</span>)            │         <span style=\"color: #00af00; text-decoration-color: #00af00\">1,024</span> │\n",
       "│ (<span style=\"color: #0087ff; text-decoration-color: #0087ff\">BatchNormalization</span>)            │                        │               │\n",
       "├─────────────────────────────────┼────────────────────────┼───────────────┤\n",
       "│ dense_10 (<span style=\"color: #0087ff; text-decoration-color: #0087ff\">Dense</span>)                │ (<span style=\"color: #00d7ff; text-decoration-color: #00d7ff\">None</span>, <span style=\"color: #00af00; text-decoration-color: #00af00\">128</span>)            │        <span style=\"color: #00af00; text-decoration-color: #00af00\">32,896</span> │\n",
       "├─────────────────────────────────┼────────────────────────┼───────────────┤\n",
       "│ dropout_9 (<span style=\"color: #0087ff; text-decoration-color: #0087ff\">Dropout</span>)             │ (<span style=\"color: #00d7ff; text-decoration-color: #00d7ff\">None</span>, <span style=\"color: #00af00; text-decoration-color: #00af00\">128</span>)            │             <span style=\"color: #00af00; text-decoration-color: #00af00\">0</span> │\n",
       "├─────────────────────────────────┼────────────────────────┼───────────────┤\n",
       "│ dense_11 (<span style=\"color: #0087ff; text-decoration-color: #0087ff\">Dense</span>)                │ (<span style=\"color: #00d7ff; text-decoration-color: #00d7ff\">None</span>, <span style=\"color: #00af00; text-decoration-color: #00af00\">2</span>)              │           <span style=\"color: #00af00; text-decoration-color: #00af00\">258</span> │\n",
       "└─────────────────────────────────┴────────────────────────┴───────────────┘\n",
       "</pre>\n"
      ]
     },
     "metadata": {},
     "output_type": "display_data"
    },
    {
     "data": {
      "text/plain": [
       "\u001B[1m Total params: \u001B[0m\u001B[38;5;34m5,475,618\u001B[0m (20.89 MB)\n"
      ],
      "text/html": [
       "<pre style=\"white-space:pre;overflow-x:auto;line-height:normal;font-family:Menlo,'DejaVu Sans Mono',consolas,'Courier New',monospace\"><span style=\"font-weight: bold\"> Total params: </span><span style=\"color: #00af00; text-decoration-color: #00af00\">5,475,618</span> (20.89 MB)\n",
       "</pre>\n"
      ]
     },
     "metadata": {},
     "output_type": "display_data"
    },
    {
     "data": {
      "text/plain": [
       "\u001B[1m Trainable params: \u001B[0m\u001B[38;5;34m5,462,738\u001B[0m (20.84 MB)\n"
      ],
      "text/html": [
       "<pre style=\"white-space:pre;overflow-x:auto;line-height:normal;font-family:Menlo,'DejaVu Sans Mono',consolas,'Courier New',monospace\"><span style=\"font-weight: bold\"> Trainable params: </span><span style=\"color: #00af00; text-decoration-color: #00af00\">5,462,738</span> (20.84 MB)\n",
       "</pre>\n"
      ]
     },
     "metadata": {},
     "output_type": "display_data"
    },
    {
     "data": {
      "text/plain": [
       "\u001B[1m Non-trainable params: \u001B[0m\u001B[38;5;34m12,880\u001B[0m (50.31 KB)\n"
      ],
      "text/html": [
       "<pre style=\"white-space:pre;overflow-x:auto;line-height:normal;font-family:Menlo,'DejaVu Sans Mono',consolas,'Courier New',monospace\"><span style=\"font-weight: bold\"> Non-trainable params: </span><span style=\"color: #00af00; text-decoration-color: #00af00\">12,880</span> (50.31 KB)\n",
       "</pre>\n"
      ]
     },
     "metadata": {},
     "output_type": "display_data"
    }
   ],
   "execution_count": 8
  },
  {
   "metadata": {
    "ExecuteTime": {
     "end_time": "2025-05-12T07:02:41.304004Z",
     "start_time": "2025-05-12T06:57:59.565234Z"
    }
   },
   "cell_type": "code",
   "source": [
    "import tensorflow as tf\n",
    "with tf.device('/gpu:0'):\n",
    "    lr_scheduler = LearningRateScheduler(lambda epoch: 0.0001 * (0.9 ** epoch))\n",
    "    early_stopping = EarlyStopping(patience=2, monitor='loss', restore_best_weights=True)\n",
    "    model.fit(dataset.train.features, dataset.train.labels, validation_data=(dataset.test.features, dataset.test.labels), epochs=20, batch_size=64, callbacks=[lr_scheduler, early_stopping], verbose=2)"
   ],
   "id": "260ac05953385810",
   "outputs": [
    {
     "name": "stdout",
     "output_type": "stream",
     "text": [
      "Epoch 1/20\n",
      "521/521 - 16s - 31ms/step - accuracy: 0.5559 - loss: 0.7425 - val_accuracy: 0.5800 - val_loss: 0.6848 - learning_rate: 1.0000e-04\n",
      "Epoch 2/20\n",
      "521/521 - 14s - 27ms/step - accuracy: 0.6180 - loss: 0.6639 - val_accuracy: 0.6603 - val_loss: 0.6173 - learning_rate: 9.0000e-05\n",
      "Epoch 3/20\n",
      "521/521 - 15s - 28ms/step - accuracy: 0.6550 - loss: 0.6241 - val_accuracy: 0.6900 - val_loss: 0.5779 - learning_rate: 8.1000e-05\n",
      "Epoch 4/20\n",
      "521/521 - 14s - 26ms/step - accuracy: 0.6894 - loss: 0.5904 - val_accuracy: 0.6303 - val_loss: 0.6533 - learning_rate: 7.2900e-05\n",
      "Epoch 5/20\n",
      "521/521 - 14s - 26ms/step - accuracy: 0.7062 - loss: 0.5709 - val_accuracy: 0.6565 - val_loss: 0.6329 - learning_rate: 6.5610e-05\n",
      "Epoch 6/20\n",
      "521/521 - 14s - 26ms/step - accuracy: 0.7150 - loss: 0.5556 - val_accuracy: 0.7049 - val_loss: 0.5667 - learning_rate: 5.9049e-05\n",
      "Epoch 7/20\n",
      "521/521 - 14s - 26ms/step - accuracy: 0.7244 - loss: 0.5415 - val_accuracy: 0.6978 - val_loss: 0.5780 - learning_rate: 5.3144e-05\n",
      "Epoch 8/20\n",
      "521/521 - 14s - 26ms/step - accuracy: 0.7339 - loss: 0.5315 - val_accuracy: 0.6978 - val_loss: 0.5740 - learning_rate: 4.7830e-05\n",
      "Epoch 9/20\n",
      "521/521 - 13s - 26ms/step - accuracy: 0.7354 - loss: 0.5245 - val_accuracy: 0.6870 - val_loss: 0.6233 - learning_rate: 4.3047e-05\n",
      "Epoch 10/20\n",
      "521/521 - 14s - 26ms/step - accuracy: 0.7420 - loss: 0.5173 - val_accuracy: 0.7395 - val_loss: 0.5273 - learning_rate: 3.8742e-05\n",
      "Epoch 11/20\n",
      "521/521 - 14s - 26ms/step - accuracy: 0.7465 - loss: 0.5102 - val_accuracy: 0.7327 - val_loss: 0.5466 - learning_rate: 3.4868e-05\n",
      "Epoch 12/20\n",
      "521/521 - 14s - 27ms/step - accuracy: 0.7505 - loss: 0.5034 - val_accuracy: 0.7251 - val_loss: 0.5500 - learning_rate: 3.1381e-05\n",
      "Epoch 13/20\n",
      "521/521 - 14s - 27ms/step - accuracy: 0.7516 - loss: 0.4993 - val_accuracy: 0.7086 - val_loss: 0.5882 - learning_rate: 2.8243e-05\n",
      "Epoch 14/20\n",
      "521/521 - 14s - 27ms/step - accuracy: 0.7537 - loss: 0.4966 - val_accuracy: 0.7284 - val_loss: 0.5486 - learning_rate: 2.5419e-05\n",
      "Epoch 15/20\n",
      "521/521 - 14s - 27ms/step - accuracy: 0.7589 - loss: 0.4886 - val_accuracy: 0.7292 - val_loss: 0.5472 - learning_rate: 2.2877e-05\n",
      "Epoch 16/20\n",
      "521/521 - 14s - 27ms/step - accuracy: 0.7602 - loss: 0.4857 - val_accuracy: 0.7319 - val_loss: 0.5578 - learning_rate: 2.0589e-05\n",
      "Epoch 17/20\n",
      "521/521 - 14s - 28ms/step - accuracy: 0.7657 - loss: 0.4801 - val_accuracy: 0.7389 - val_loss: 0.5422 - learning_rate: 1.8530e-05\n",
      "Epoch 18/20\n",
      "521/521 - 14s - 27ms/step - accuracy: 0.7638 - loss: 0.4788 - val_accuracy: 0.7241 - val_loss: 0.5931 - learning_rate: 1.6677e-05\n",
      "Epoch 19/20\n",
      "521/521 - 14s - 27ms/step - accuracy: 0.7693 - loss: 0.4750 - val_accuracy: 0.7211 - val_loss: 0.5853 - learning_rate: 1.5009e-05\n",
      "Epoch 20/20\n",
      "521/521 - 14s - 27ms/step - accuracy: 0.7724 - loss: 0.4702 - val_accuracy: 0.7314 - val_loss: 0.5693 - learning_rate: 1.3509e-05\n"
     ]
    }
   ],
   "execution_count": 9
  },
  {
   "metadata": {
    "ExecuteTime": {
     "end_time": "2025-05-12T07:08:53.889975Z",
     "start_time": "2025-05-12T07:08:53.383106Z"
    }
   },
   "cell_type": "code",
   "source": "evaluate(model,dataset.test.features, dataset.test.labels)",
   "id": "824d336c111d1188",
   "outputs": [
    {
     "name": "stdout",
     "output_type": "stream",
     "text": [
      "\u001B[1m116/116\u001B[0m \u001B[32m━━━━━━━━━━━━━━━━━━━━\u001B[0m\u001B[37m\u001B[0m \u001B[1m0s\u001B[0m 2ms/step\n",
      "## Accuracy: 0.7313513513513513\n",
      "\n",
      "## F1 Score: 0.7307281512596429\n",
      "\n",
      "\n"
     ]
    }
   ],
   "execution_count": 12
  },
  {
   "metadata": {},
   "cell_type": "markdown",
   "source": "## LSTM",
   "id": "f2ca998d24f77650"
  },
  {
   "metadata": {
    "ExecuteTime": {
     "end_time": "2025-05-12T07:08:56.335487Z",
     "start_time": "2025-05-12T07:08:56.191104Z"
    }
   },
   "cell_type": "code",
   "source": [
    "from keras.api.layers import LSTM, RepeatVector\n",
    "\n",
    "try:\n",
    "    del lstm\n",
    "except:\n",
    "    pass\n",
    "# Define input shape with sequential data\n",
    "# 512 is the shape of the clip embedding that is why I'm choosing that\n",
    "inputs = Input(shape=(1, dataset.train.features.shape[1]))  # Add timesteps dimension\n",
    "\n",
    "# LSTM Embedding Layer\n",
    "x = LSTM(units=128, return_sequences=False)(inputs)  # Return the final state output as embedding\n",
    "\n",
    "# Optionally add dense layers after LSTM for better feature processing\n",
    "x = Dense(units=128, activation='leaky_relu')(x)\n",
    "\n",
    "x = Dense(units=64, activation='leaky_relu')(x)\n",
    "# Define the output layer for classification\n",
    "outputs = Dense(units=2, activation='softmax')(x)\n",
    "\n",
    "# Create the model\n",
    "lstm = Model(inputs=inputs, outputs=outputs)\n",
    "\n",
    "# Compile the model\n",
    "lstm.compile(optimizer='adam',\n",
    "              loss='categorical_crossentropy',\n",
    "              metrics=['accuracy'])\n",
    "\n",
    "# Print summary\n",
    "lstm.summary()\n"
   ],
   "id": "98186671743f0603",
   "outputs": [
    {
     "data": {
      "text/plain": [
       "\u001B[1mModel: \"functional_2\"\u001B[0m\n"
      ],
      "text/html": [
       "<pre style=\"white-space:pre;overflow-x:auto;line-height:normal;font-family:Menlo,'DejaVu Sans Mono',consolas,'Courier New',monospace\"><span style=\"font-weight: bold\">Model: \"functional_2\"</span>\n",
       "</pre>\n"
      ]
     },
     "metadata": {},
     "output_type": "display_data"
    },
    {
     "data": {
      "text/plain": [
       "┏━━━━━━━━━━━━━━━━━━━━━━━━━━━━━━━━━┳━━━━━━━━━━━━━━━━━━━━━━━━┳━━━━━━━━━━━━━━━┓\n",
       "┃\u001B[1m \u001B[0m\u001B[1mLayer (type)                   \u001B[0m\u001B[1m \u001B[0m┃\u001B[1m \u001B[0m\u001B[1mOutput Shape          \u001B[0m\u001B[1m \u001B[0m┃\u001B[1m \u001B[0m\u001B[1m      Param #\u001B[0m\u001B[1m \u001B[0m┃\n",
       "┡━━━━━━━━━━━━━━━━━━━━━━━━━━━━━━━━━╇━━━━━━━━━━━━━━━━━━━━━━━━╇━━━━━━━━━━━━━━━┩\n",
       "│ input_layer_2 (\u001B[38;5;33mInputLayer\u001B[0m)      │ (\u001B[38;5;45mNone\u001B[0m, \u001B[38;5;34m1\u001B[0m, \u001B[38;5;34m4648\u001B[0m)        │             \u001B[38;5;34m0\u001B[0m │\n",
       "├─────────────────────────────────┼────────────────────────┼───────────────┤\n",
       "│ lstm (\u001B[38;5;33mLSTM\u001B[0m)                     │ (\u001B[38;5;45mNone\u001B[0m, \u001B[38;5;34m128\u001B[0m)            │     \u001B[38;5;34m2,445,824\u001B[0m │\n",
       "├─────────────────────────────────┼────────────────────────┼───────────────┤\n",
       "│ dense_12 (\u001B[38;5;33mDense\u001B[0m)                │ (\u001B[38;5;45mNone\u001B[0m, \u001B[38;5;34m128\u001B[0m)            │        \u001B[38;5;34m16,512\u001B[0m │\n",
       "├─────────────────────────────────┼────────────────────────┼───────────────┤\n",
       "│ dense_13 (\u001B[38;5;33mDense\u001B[0m)                │ (\u001B[38;5;45mNone\u001B[0m, \u001B[38;5;34m64\u001B[0m)             │         \u001B[38;5;34m8,256\u001B[0m │\n",
       "├─────────────────────────────────┼────────────────────────┼───────────────┤\n",
       "│ dense_14 (\u001B[38;5;33mDense\u001B[0m)                │ (\u001B[38;5;45mNone\u001B[0m, \u001B[38;5;34m2\u001B[0m)              │           \u001B[38;5;34m130\u001B[0m │\n",
       "└─────────────────────────────────┴────────────────────────┴───────────────┘\n"
      ],
      "text/html": [
       "<pre style=\"white-space:pre;overflow-x:auto;line-height:normal;font-family:Menlo,'DejaVu Sans Mono',consolas,'Courier New',monospace\">┏━━━━━━━━━━━━━━━━━━━━━━━━━━━━━━━━━┳━━━━━━━━━━━━━━━━━━━━━━━━┳━━━━━━━━━━━━━━━┓\n",
       "┃<span style=\"font-weight: bold\"> Layer (type)                    </span>┃<span style=\"font-weight: bold\"> Output Shape           </span>┃<span style=\"font-weight: bold\">       Param # </span>┃\n",
       "┡━━━━━━━━━━━━━━━━━━━━━━━━━━━━━━━━━╇━━━━━━━━━━━━━━━━━━━━━━━━╇━━━━━━━━━━━━━━━┩\n",
       "│ input_layer_2 (<span style=\"color: #0087ff; text-decoration-color: #0087ff\">InputLayer</span>)      │ (<span style=\"color: #00d7ff; text-decoration-color: #00d7ff\">None</span>, <span style=\"color: #00af00; text-decoration-color: #00af00\">1</span>, <span style=\"color: #00af00; text-decoration-color: #00af00\">4648</span>)        │             <span style=\"color: #00af00; text-decoration-color: #00af00\">0</span> │\n",
       "├─────────────────────────────────┼────────────────────────┼───────────────┤\n",
       "│ lstm (<span style=\"color: #0087ff; text-decoration-color: #0087ff\">LSTM</span>)                     │ (<span style=\"color: #00d7ff; text-decoration-color: #00d7ff\">None</span>, <span style=\"color: #00af00; text-decoration-color: #00af00\">128</span>)            │     <span style=\"color: #00af00; text-decoration-color: #00af00\">2,445,824</span> │\n",
       "├─────────────────────────────────┼────────────────────────┼───────────────┤\n",
       "│ dense_12 (<span style=\"color: #0087ff; text-decoration-color: #0087ff\">Dense</span>)                │ (<span style=\"color: #00d7ff; text-decoration-color: #00d7ff\">None</span>, <span style=\"color: #00af00; text-decoration-color: #00af00\">128</span>)            │        <span style=\"color: #00af00; text-decoration-color: #00af00\">16,512</span> │\n",
       "├─────────────────────────────────┼────────────────────────┼───────────────┤\n",
       "│ dense_13 (<span style=\"color: #0087ff; text-decoration-color: #0087ff\">Dense</span>)                │ (<span style=\"color: #00d7ff; text-decoration-color: #00d7ff\">None</span>, <span style=\"color: #00af00; text-decoration-color: #00af00\">64</span>)             │         <span style=\"color: #00af00; text-decoration-color: #00af00\">8,256</span> │\n",
       "├─────────────────────────────────┼────────────────────────┼───────────────┤\n",
       "│ dense_14 (<span style=\"color: #0087ff; text-decoration-color: #0087ff\">Dense</span>)                │ (<span style=\"color: #00d7ff; text-decoration-color: #00d7ff\">None</span>, <span style=\"color: #00af00; text-decoration-color: #00af00\">2</span>)              │           <span style=\"color: #00af00; text-decoration-color: #00af00\">130</span> │\n",
       "└─────────────────────────────────┴────────────────────────┴───────────────┘\n",
       "</pre>\n"
      ]
     },
     "metadata": {},
     "output_type": "display_data"
    },
    {
     "data": {
      "text/plain": [
       "\u001B[1m Total params: \u001B[0m\u001B[38;5;34m2,470,722\u001B[0m (9.43 MB)\n"
      ],
      "text/html": [
       "<pre style=\"white-space:pre;overflow-x:auto;line-height:normal;font-family:Menlo,'DejaVu Sans Mono',consolas,'Courier New',monospace\"><span style=\"font-weight: bold\"> Total params: </span><span style=\"color: #00af00; text-decoration-color: #00af00\">2,470,722</span> (9.43 MB)\n",
       "</pre>\n"
      ]
     },
     "metadata": {},
     "output_type": "display_data"
    },
    {
     "data": {
      "text/plain": [
       "\u001B[1m Trainable params: \u001B[0m\u001B[38;5;34m2,470,722\u001B[0m (9.43 MB)\n"
      ],
      "text/html": [
       "<pre style=\"white-space:pre;overflow-x:auto;line-height:normal;font-family:Menlo,'DejaVu Sans Mono',consolas,'Courier New',monospace\"><span style=\"font-weight: bold\"> Trainable params: </span><span style=\"color: #00af00; text-decoration-color: #00af00\">2,470,722</span> (9.43 MB)\n",
       "</pre>\n"
      ]
     },
     "metadata": {},
     "output_type": "display_data"
    },
    {
     "data": {
      "text/plain": [
       "\u001B[1m Non-trainable params: \u001B[0m\u001B[38;5;34m0\u001B[0m (0.00 B)\n"
      ],
      "text/html": [
       "<pre style=\"white-space:pre;overflow-x:auto;line-height:normal;font-family:Menlo,'DejaVu Sans Mono',consolas,'Courier New',monospace\"><span style=\"font-weight: bold\"> Non-trainable params: </span><span style=\"color: #00af00; text-decoration-color: #00af00\">0</span> (0.00 B)\n",
       "</pre>\n"
      ]
     },
     "metadata": {},
     "output_type": "display_data"
    }
   ],
   "execution_count": 13
  },
  {
   "metadata": {
    "ExecuteTime": {
     "end_time": "2025-05-12T07:11:51.021558Z",
     "start_time": "2025-05-12T07:08:57.010704Z"
    }
   },
   "cell_type": "code",
   "source": [
    "import tensorflow as tf\n",
    "from keras.api.callbacks import LearningRateScheduler, EarlyStopping, Callback\n",
    "\n",
    "\n",
    "X_train_reshaped = dataset.train.features.reshape(-1, 1, dataset.train.features.shape[1])\n",
    "X_test_reshaped  = dataset.test.features.reshape(-1, 1, dataset.test.features.shape[1])\n",
    "\n",
    "\n",
    "# Assuming dataset.train.features and dataset.train.labels are re-shaped correctly\n",
    "with tf.device('/gpu:0'):\n",
    "    lr_scheduler = LearningRateScheduler(lambda epoch: 0.0001 * (0.9 ** epoch))\n",
    "    early_stopping = EarlyStopping(patience=2, monitor='loss', restore_best_weights=True)\n",
    "    lstm.fit(X_train_reshaped, dataset.train.labels,\n",
    "              validation_data=(X_test_reshaped, dataset.test.labels),\n",
    "              epochs=20, batch_size=64,\n",
    "                callbacks=[lr_scheduler, early_stopping],\n",
    "              verbose=2)\n"
   ],
   "id": "554940c075d410df",
   "outputs": [
    {
     "name": "stdout",
     "output_type": "stream",
     "text": [
      "Epoch 1/20\n",
      "521/521 - 10s - 19ms/step - accuracy: 0.5190 - loss: 0.6920 - val_accuracy: 0.5214 - val_loss: 0.6907 - learning_rate: 1.0000e-04\n",
      "Epoch 2/20\n",
      "521/521 - 9s - 17ms/step - accuracy: 0.5410 - loss: 0.6871 - val_accuracy: 0.5376 - val_loss: 0.6877 - learning_rate: 9.0000e-05\n",
      "Epoch 3/20\n",
      "521/521 - 9s - 16ms/step - accuracy: 0.5576 - loss: 0.6819 - val_accuracy: 0.5508 - val_loss: 0.6791 - learning_rate: 8.1000e-05\n",
      "Epoch 4/20\n",
      "521/521 - 9s - 16ms/step - accuracy: 0.5942 - loss: 0.6640 - val_accuracy: 0.5576 - val_loss: 0.6736 - learning_rate: 7.2900e-05\n",
      "Epoch 5/20\n",
      "521/521 - 9s - 16ms/step - accuracy: 0.6367 - loss: 0.6374 - val_accuracy: 0.6438 - val_loss: 0.6341 - learning_rate: 6.5610e-05\n",
      "Epoch 6/20\n",
      "521/521 - 8s - 16ms/step - accuracy: 0.6577 - loss: 0.6191 - val_accuracy: 0.6719 - val_loss: 0.6155 - learning_rate: 5.9049e-05\n",
      "Epoch 7/20\n",
      "521/521 - 9s - 17ms/step - accuracy: 0.6648 - loss: 0.6100 - val_accuracy: 0.6578 - val_loss: 0.6295 - learning_rate: 5.3144e-05\n",
      "Epoch 8/20\n",
      "521/521 - 9s - 16ms/step - accuracy: 0.6740 - loss: 0.6017 - val_accuracy: 0.6697 - val_loss: 0.6046 - learning_rate: 4.7830e-05\n",
      "Epoch 9/20\n",
      "521/521 - 9s - 16ms/step - accuracy: 0.6864 - loss: 0.5912 - val_accuracy: 0.6884 - val_loss: 0.5962 - learning_rate: 4.3047e-05\n",
      "Epoch 10/20\n",
      "521/521 - 9s - 17ms/step - accuracy: 0.6887 - loss: 0.5867 - val_accuracy: 0.6838 - val_loss: 0.5914 - learning_rate: 3.8742e-05\n",
      "Epoch 11/20\n",
      "521/521 - 9s - 18ms/step - accuracy: 0.6900 - loss: 0.5825 - val_accuracy: 0.6816 - val_loss: 0.5894 - learning_rate: 3.4868e-05\n",
      "Epoch 12/20\n",
      "521/521 - 9s - 17ms/step - accuracy: 0.6966 - loss: 0.5778 - val_accuracy: 0.6892 - val_loss: 0.5838 - learning_rate: 3.1381e-05\n",
      "Epoch 13/20\n",
      "521/521 - 9s - 16ms/step - accuracy: 0.7008 - loss: 0.5722 - val_accuracy: 0.6976 - val_loss: 0.5808 - learning_rate: 2.8243e-05\n",
      "Epoch 14/20\n",
      "521/521 - 8s - 16ms/step - accuracy: 0.7070 - loss: 0.5647 - val_accuracy: 0.6949 - val_loss: 0.5827 - learning_rate: 2.5419e-05\n",
      "Epoch 15/20\n",
      "521/521 - 9s - 16ms/step - accuracy: 0.7082 - loss: 0.5636 - val_accuracy: 0.6989 - val_loss: 0.5753 - learning_rate: 2.2877e-05\n",
      "Epoch 16/20\n",
      "521/521 - 8s - 16ms/step - accuracy: 0.7138 - loss: 0.5591 - val_accuracy: 0.6989 - val_loss: 0.5721 - learning_rate: 2.0589e-05\n",
      "Epoch 17/20\n",
      "521/521 - 8s - 16ms/step - accuracy: 0.7164 - loss: 0.5543 - val_accuracy: 0.7032 - val_loss: 0.5739 - learning_rate: 1.8530e-05\n",
      "Epoch 18/20\n",
      "521/521 - 9s - 16ms/step - accuracy: 0.7165 - loss: 0.5521 - val_accuracy: 0.7051 - val_loss: 0.5667 - learning_rate: 1.6677e-05\n",
      "Epoch 19/20\n",
      "521/521 - 9s - 17ms/step - accuracy: 0.7220 - loss: 0.5479 - val_accuracy: 0.7084 - val_loss: 0.5627 - learning_rate: 1.5009e-05\n",
      "Epoch 20/20\n",
      "521/521 - 9s - 16ms/step - accuracy: 0.7245 - loss: 0.5451 - val_accuracy: 0.7089 - val_loss: 0.5702 - learning_rate: 1.3509e-05\n"
     ]
    }
   ],
   "execution_count": 14
  },
  {
   "metadata": {
    "ExecuteTime": {
     "end_time": "2025-05-12T07:11:51.392832Z",
     "start_time": "2025-05-12T07:11:51.031220Z"
    }
   },
   "cell_type": "code",
   "source": "evaluate(lstm, X_test_reshaped, dataset.test.labels)",
   "id": "8ed6389fe13b36d",
   "outputs": [
    {
     "name": "stdout",
     "output_type": "stream",
     "text": [
      "\u001B[1m116/116\u001B[0m \u001B[32m━━━━━━━━━━━━━━━━━━━━\u001B[0m\u001B[37m\u001B[0m \u001B[1m0s\u001B[0m 2ms/step\n",
      "## Accuracy: 0.7089189189189189\n",
      "\n",
      "## F1 Score: 0.7065706049708702\n",
      "\n",
      "\n"
     ]
    }
   ],
   "execution_count": 15
  },
  {
   "metadata": {},
   "cell_type": "code",
   "outputs": [],
   "execution_count": null,
   "source": "",
   "id": "aa418d3ab2e043d2"
  }
 ],
 "metadata": {
  "kernelspec": {
   "display_name": "Python 3",
   "language": "python",
   "name": "python3"
  },
  "language_info": {
   "codemirror_mode": {
    "name": "ipython",
    "version": 2
   },
   "file_extension": ".py",
   "mimetype": "text/x-python",
   "name": "python",
   "nbconvert_exporter": "python",
   "pygments_lexer": "ipython2",
   "version": "2.7.6"
  }
 },
 "nbformat": 4,
 "nbformat_minor": 5
}
